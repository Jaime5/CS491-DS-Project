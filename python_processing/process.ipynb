{
 "cells": [
  {
   "cell_type": "code",
   "execution_count": 1,
   "metadata": {
    "ExecuteTime": {
     "end_time": "2018-05-10T00:57:07.581769Z",
     "start_time": "2018-05-10T00:57:06.196788Z"
    }
   },
   "outputs": [],
   "source": [
    "from datetime import datetime, date\n",
    "from functools import reduce\n",
    "\n",
    "import pandas as pd\n",
    "import numpy as np\n",
    "\n",
    "import math\n"
   ]
  },
  {
   "cell_type": "markdown",
   "metadata": {},
   "source": [
    "# Begin processing Income Dataframe"
   ]
  },
  {
   "cell_type": "code",
   "execution_count": 2,
   "metadata": {
    "ExecuteTime": {
     "end_time": "2018-05-10T00:57:07.607356Z",
     "start_time": "2018-05-10T00:57:07.584608Z"
    }
   },
   "outputs": [],
   "source": [
    "income_df = pd.read_csv(\"./datasets/Vital_Signs_16_Census_Demographics.csv\")"
   ]
  },
  {
   "cell_type": "code",
   "execution_count": 3,
   "metadata": {
    "ExecuteTime": {
     "end_time": "2018-05-10T00:57:07.623742Z",
     "start_time": "2018-05-10T00:57:07.610628Z"
    },
    "code_folding": []
   },
   "outputs": [],
   "source": [
    "income_neighborhood = []\n",
    "income_total_pop = []\n",
    "income_medium_hh = []\n",
    "\n",
    "for index, row in income_df.iterrows():\n",
    "    if \"/\" in row[\"CSA2010\"]:        \n",
    "        temp_districts = row[\"CSA2010\"].split(\"/\")\n",
    "        \n",
    "        for dist in temp_districts:\n",
    "            income_neighborhood.append(dist.lower())\n",
    "            income_total_pop.append(row[\"tpop10\"])\n",
    "            income_medium_hh.append(row[\"mhhi16\"])\n",
    "    else:\n",
    "        income_neighborhood.append(row[\"CSA2010\"].lower())\n",
    "        income_total_pop.append(row[\"tpop10\"])\n",
    "        income_medium_hh.append(row[\"mhhi16\"])\n",
    "    \n",
    "\n",
    "processed_income = {\n",
    "    'Neighborhood': income_neighborhood,\n",
    "    'Total Population': income_total_pop,\n",
    "    'Median Household Income': income_medium_hh\n",
    "}\n",
    "\n",
    "processed_income_df = pd.DataFrame(data=processed_income)"
   ]
  },
  {
   "cell_type": "code",
   "execution_count": 4,
   "metadata": {
    "ExecuteTime": {
     "end_time": "2018-05-10T00:57:07.649537Z",
     "start_time": "2018-05-10T00:57:07.626188Z"
    }
   },
   "outputs": [
    {
     "data": {
      "text/html": [
       "<div>\n",
       "<style scoped>\n",
       "    .dataframe tbody tr th:only-of-type {\n",
       "        vertical-align: middle;\n",
       "    }\n",
       "\n",
       "    .dataframe tbody tr th {\n",
       "        vertical-align: top;\n",
       "    }\n",
       "\n",
       "    .dataframe thead th {\n",
       "        text-align: right;\n",
       "    }\n",
       "</style>\n",
       "<table border=\"1\" class=\"dataframe\">\n",
       "  <thead>\n",
       "    <tr style=\"text-align: right;\">\n",
       "      <th></th>\n",
       "      <th>Median Household Income</th>\n",
       "      <th>Neighborhood</th>\n",
       "      <th>Total Population</th>\n",
       "    </tr>\n",
       "  </thead>\n",
       "  <tbody>\n",
       "    <tr>\n",
       "      <th>0</th>\n",
       "      <td>37302.17105</td>\n",
       "      <td>allendale</td>\n",
       "      <td>16217</td>\n",
       "    </tr>\n",
       "    <tr>\n",
       "      <th>1</th>\n",
       "      <td>37302.17105</td>\n",
       "      <td>irvington</td>\n",
       "      <td>16217</td>\n",
       "    </tr>\n",
       "    <tr>\n",
       "      <th>2</th>\n",
       "      <td>37302.17105</td>\n",
       "      <td>s. hilton</td>\n",
       "      <td>16217</td>\n",
       "    </tr>\n",
       "    <tr>\n",
       "      <th>3</th>\n",
       "      <td>53565.07970</td>\n",
       "      <td>beechfield</td>\n",
       "      <td>12264</td>\n",
       "    </tr>\n",
       "    <tr>\n",
       "      <th>4</th>\n",
       "      <td>53565.07970</td>\n",
       "      <td>ten hills</td>\n",
       "      <td>12264</td>\n",
       "    </tr>\n",
       "    <tr>\n",
       "      <th>5</th>\n",
       "      <td>53565.07970</td>\n",
       "      <td>west hills</td>\n",
       "      <td>12264</td>\n",
       "    </tr>\n",
       "    <tr>\n",
       "      <th>6</th>\n",
       "      <td>40482.35965</td>\n",
       "      <td>belair-edison</td>\n",
       "      <td>17416</td>\n",
       "    </tr>\n",
       "    <tr>\n",
       "      <th>7</th>\n",
       "      <td>38603.93023</td>\n",
       "      <td>brooklyn</td>\n",
       "      <td>14243</td>\n",
       "    </tr>\n",
       "    <tr>\n",
       "      <th>8</th>\n",
       "      <td>38603.93023</td>\n",
       "      <td>curtis bay</td>\n",
       "      <td>14243</td>\n",
       "    </tr>\n",
       "    <tr>\n",
       "      <th>9</th>\n",
       "      <td>38603.93023</td>\n",
       "      <td>hawkins point</td>\n",
       "      <td>14243</td>\n",
       "    </tr>\n",
       "  </tbody>\n",
       "</table>\n",
       "</div>"
      ],
      "text/plain": [
       "   Median Household Income   Neighborhood  Total Population\n",
       "0              37302.17105      allendale             16217\n",
       "1              37302.17105      irvington             16217\n",
       "2              37302.17105      s. hilton             16217\n",
       "3              53565.07970     beechfield             12264\n",
       "4              53565.07970      ten hills             12264\n",
       "5              53565.07970     west hills             12264\n",
       "6              40482.35965  belair-edison             17416\n",
       "7              38603.93023       brooklyn             14243\n",
       "8              38603.93023     curtis bay             14243\n",
       "9              38603.93023  hawkins point             14243"
      ]
     },
     "execution_count": 4,
     "metadata": {},
     "output_type": "execute_result"
    }
   ],
   "source": [
    "processed_income_df.head(10)"
   ]
  },
  {
   "cell_type": "code",
   "execution_count": 5,
   "metadata": {
    "ExecuteTime": {
     "end_time": "2018-05-10T00:57:07.656570Z",
     "start_time": "2018-05-10T00:57:07.652431Z"
    },
    "scrolled": true
   },
   "outputs": [],
   "source": [
    "unique_income_neighborhoods = np.unique(processed_income_df[\"Neighborhood\"])"
   ]
  },
  {
   "cell_type": "markdown",
   "metadata": {
    "ExecuteTime": {
     "end_time": "2018-05-07T22:38:47.800656Z",
     "start_time": "2018-05-07T22:38:47.738923Z"
    }
   },
   "source": [
    "# Begin processing Crime Dataframe"
   ]
  },
  {
   "cell_type": "code",
   "execution_count": 6,
   "metadata": {
    "ExecuteTime": {
     "end_time": "2018-05-10T00:57:08.471560Z",
     "start_time": "2018-05-10T00:57:07.659589Z"
    }
   },
   "outputs": [],
   "source": [
    "crime_df = pd.read_csv(\"./datasets/BPD_Part_1_Victim_Based_Crime_Data.csv\")"
   ]
  },
  {
   "cell_type": "code",
   "execution_count": 7,
   "metadata": {
    "ExecuteTime": {
     "end_time": "2018-05-10T00:57:08.480324Z",
     "start_time": "2018-05-10T00:57:08.474397Z"
    }
   },
   "outputs": [
    {
     "name": "stdout",
     "output_type": "stream",
     "text": [
      "2016-01-01 00:00:00\n",
      "2016-12-31 23:59:59\n"
     ]
    }
   ],
   "source": [
    "start = datetime(2016, 1, 1, 0, 0, 0)\n",
    "end = datetime(2016, 12, 31, 23, 59, 59)\n",
    "\n",
    "print(start)\n",
    "print(end)"
   ]
  },
  {
   "cell_type": "code",
   "execution_count": 8,
   "metadata": {
    "ExecuteTime": {
     "end_time": "2018-05-10T00:57:46.991790Z",
     "start_time": "2018-05-10T00:57:08.482975Z"
    },
    "code_folding": [
     36
    ]
   },
   "outputs": [],
   "source": [
    "# Preprocess crime data from BDP Dataset\n",
    "crime_datetime = []\n",
    "crime_datetimeofyear = []\n",
    "crime_descript = []\n",
    "crime_district = []\n",
    "crime_neighbor = []\n",
    "\n",
    "# Iterate through all rows, attempt to get datetime columns parsed and working\n",
    "for index, row in crime_df.iterrows():\n",
    "    datetime_str = \"{} {}\".format(row[\"CrimeDate\"], row[\"CrimeTime\"])\n",
    "    worked_first_parse = False\n",
    "    \n",
    "    try:\n",
    "        datetime_processed = datetime.strptime(datetime_str, '%m/%d/%Y %H:%M:%S')\n",
    "        worked_first_parse = True\n",
    "        \n",
    "    except ValueError as e:\n",
    "        pass\n",
    "\n",
    "    if not worked_first_parse:\n",
    "        try:\n",
    "            datetime_processed = datetime.strptime(datetime_str, '%m/%d/%Y %H%M')\n",
    "        except ValueError as e:\n",
    "            continue\n",
    "\n",
    "    if start <= datetime_processed <= end:\n",
    "        n = row[\"Neighborhood\"]\n",
    "        if isinstance(n, str):\n",
    "            pd_dt = pd.to_datetime(datetime_processed)\n",
    "            crime_datetime.append(pd_dt)\n",
    "            crime_datetimeofyear.append(pd_dt.dayofyear)\n",
    "            crime_descript.append(row[\"Description\"].lower())\n",
    "            crime_district.append(row[\"District\"].lower())\n",
    "            crime_neighbor.append(row[\"Neighborhood\"].lower())\n",
    "        \n",
    "# Append to a new dataframe\n",
    "processed_crime = {\n",
    "    'Datetime': crime_datetime,\n",
    "    'Day of the Year': crime_datetimeofyear,\n",
    "    'Description': crime_descript,\n",
    "    'District': crime_district,\n",
    "    'Neighborhood': crime_neighbor\n",
    "}\n",
    "\n",
    "processed_crime_df = pd.DataFrame(data=processed_crime)\n"
   ]
  },
  {
   "cell_type": "code",
   "execution_count": 9,
   "metadata": {
    "ExecuteTime": {
     "end_time": "2018-05-10T00:57:46.997874Z",
     "start_time": "2018-05-10T00:57:46.993839Z"
    }
   },
   "outputs": [],
   "source": [
    "# wow = crime_df.groupby(['Day of the Year', \"Neighborhood\"]).size().reset_index(name=\"WOW\")\n",
    "# crime_df.to_csv(\"lmao.csv\", encoding=\"utf-8\")\n",
    "# len(processed_crime_df)\n",
    "# processed_crime_df.head(10)"
   ]
  },
  {
   "cell_type": "code",
   "execution_count": 10,
   "metadata": {
    "ExecuteTime": {
     "end_time": "2018-05-10T00:57:47.065070Z",
     "start_time": "2018-05-10T00:57:47.001008Z"
    }
   },
   "outputs": [],
   "source": [
    "unique_crime_neighborhoods = np.unique(processed_crime_df[\"Neighborhood\"])"
   ]
  },
  {
   "cell_type": "markdown",
   "metadata": {},
   "source": [
    "# Begin processing service Dataframe"
   ]
  },
  {
   "cell_type": "code",
   "execution_count": 11,
   "metadata": {
    "ExecuteTime": {
     "end_time": "2018-05-10T00:57:58.651350Z",
     "start_time": "2018-05-10T00:57:47.066977Z"
    }
   },
   "outputs": [
    {
     "name": "stderr",
     "output_type": "stream",
     "text": [
      "/Users/jaime/Downloads/CMSC-491-DS-Group-Project/python_processing/.env/lib/python3.6/site-packages/IPython/core/interactiveshell.py:2785: DtypeWarning: Columns (6) have mixed types. Specify dtype option on import or set low_memory=False.\n",
      "  interactivity=interactivity, compiler=compiler, result=result)\n"
     ]
    }
   ],
   "source": [
    "service_df = pd.read_csv(\"./datasets/311_Customer_Service_Requests.csv\")"
   ]
  },
  {
   "cell_type": "code",
   "execution_count": 15,
   "metadata": {
    "ExecuteTime": {
     "end_time": "2018-05-10T01:02:03.410678Z",
     "start_time": "2018-05-10T00:58:25.866306Z"
    }
   },
   "outputs": [],
   "source": [
    "service_df.head(20)\n",
    "\n",
    "\n",
    "service_type = []\n",
    "service_agency = []\n",
    "service_neighborhood = []\n",
    "service_method_received = []\n",
    "service_creation_date = []\n",
    "\n",
    "for index, row in service_df.iterrows():\n",
    "    service_type.append(row[\"SRType\"])\n",
    "    service_agency.append(row[\"Agency\"])\n",
    "    service_neighborhood.append(row[\"Neighborhood\"].lower())\n",
    "    service_method_received.append(row[\"MethodReceived\"].lower())\n",
    "    service_creation_date.append(row[\"CreatedDate\"])    \n",
    "\n",
    "processed_service = {\n",
    "    'Service Requested Type': service_type,\n",
    "    'Agency': service_agency,\n",
    "    'Neighborhood': service_neighborhood,\n",
    "    'Method Received': service_method_received,\n",
    "    'Creation Date': service_creation_date\n",
    "}\n",
    "\n",
    "processed_service_df = pd.DataFrame(data=processed_service)"
   ]
  },
  {
   "cell_type": "code",
   "execution_count": 16,
   "metadata": {
    "ExecuteTime": {
     "end_time": "2018-05-10T01:02:06.258895Z",
     "start_time": "2018-05-10T01:02:06.244314Z"
    }
   },
   "outputs": [
    {
     "data": {
      "text/html": [
       "<div>\n",
       "<style scoped>\n",
       "    .dataframe tbody tr th:only-of-type {\n",
       "        vertical-align: middle;\n",
       "    }\n",
       "\n",
       "    .dataframe tbody tr th {\n",
       "        vertical-align: top;\n",
       "    }\n",
       "\n",
       "    .dataframe thead th {\n",
       "        text-align: right;\n",
       "    }\n",
       "</style>\n",
       "<table border=\"1\" class=\"dataframe\">\n",
       "  <thead>\n",
       "    <tr style=\"text-align: right;\">\n",
       "      <th></th>\n",
       "      <th>Agency</th>\n",
       "      <th>Creation Date</th>\n",
       "      <th>Method Received</th>\n",
       "      <th>Neighborhood</th>\n",
       "      <th>Service Requested Type</th>\n",
       "    </tr>\n",
       "  </thead>\n",
       "  <tbody>\n",
       "    <tr>\n",
       "      <th>0</th>\n",
       "      <td>Bureau of Water and Waste Water</td>\n",
       "      <td>02/01/2015 08:12:00 AM +0000</td>\n",
       "      <td>interface</td>\n",
       "      <td>canton</td>\n",
       "      <td>WW Water Leak (Exterior)</td>\n",
       "    </tr>\n",
       "    <tr>\n",
       "      <th>1</th>\n",
       "      <td>Liquor License Board</td>\n",
       "      <td>02/01/2015 08:48:00 AM +0000</td>\n",
       "      <td>interface</td>\n",
       "      <td>greektown</td>\n",
       "      <td>BCLB-Liquor License Complaint</td>\n",
       "    </tr>\n",
       "    <tr>\n",
       "      <th>2</th>\n",
       "      <td>Bureau of Water and Waste Water</td>\n",
       "      <td>02/01/2015 09:13:00 AM +0000</td>\n",
       "      <td>phone</td>\n",
       "      <td>millhill</td>\n",
       "      <td>WW Hydrant Open</td>\n",
       "    </tr>\n",
       "    <tr>\n",
       "      <th>3</th>\n",
       "      <td>Department of Transportation</td>\n",
       "      <td>02/01/2015 09:24:00 AM +0000</td>\n",
       "      <td>phone</td>\n",
       "      <td>medfield</td>\n",
       "      <td>TRM-Snow/Icy Conditions</td>\n",
       "    </tr>\n",
       "    <tr>\n",
       "      <th>4</th>\n",
       "      <td>Department of Transportation</td>\n",
       "      <td>02/01/2015 09:29:00 AM +0000</td>\n",
       "      <td>phone</td>\n",
       "      <td>east baltimore midway</td>\n",
       "      <td>TRM-Snow/Icy Conditions</td>\n",
       "    </tr>\n",
       "  </tbody>\n",
       "</table>\n",
       "</div>"
      ],
      "text/plain": [
       "                            Agency                 Creation Date  \\\n",
       "0  Bureau of Water and Waste Water  02/01/2015 08:12:00 AM +0000   \n",
       "1             Liquor License Board  02/01/2015 08:48:00 AM +0000   \n",
       "2  Bureau of Water and Waste Water  02/01/2015 09:13:00 AM +0000   \n",
       "3     Department of Transportation  02/01/2015 09:24:00 AM +0000   \n",
       "4     Department of Transportation  02/01/2015 09:29:00 AM +0000   \n",
       "\n",
       "  Method Received           Neighborhood         Service Requested Type  \n",
       "0       interface                 canton       WW Water Leak (Exterior)  \n",
       "1       interface              greektown  BCLB-Liquor License Complaint  \n",
       "2           phone               millhill                WW Hydrant Open  \n",
       "3           phone               medfield        TRM-Snow/Icy Conditions  \n",
       "4           phone  east baltimore midway        TRM-Snow/Icy Conditions  "
      ]
     },
     "execution_count": 16,
     "metadata": {},
     "output_type": "execute_result"
    }
   ],
   "source": [
    "processed_service_df.head(5)"
   ]
  },
  {
   "cell_type": "code",
   "execution_count": 17,
   "metadata": {
    "ExecuteTime": {
     "end_time": "2018-05-10T01:02:14.518429Z",
     "start_time": "2018-05-10T01:02:10.490976Z"
    }
   },
   "outputs": [],
   "source": [
    "unique_service_neighborhoods = np.unique(processed_service_df[\"Neighborhood\"])\n"
   ]
  },
  {
   "cell_type": "markdown",
   "metadata": {},
   "source": [
    "# Begin intersecting data and only using districts that have been defined uniformly"
   ]
  },
  {
   "cell_type": "code",
   "execution_count": 22,
   "metadata": {
    "ExecuteTime": {
     "end_time": "2018-05-10T01:04:02.876065Z",
     "start_time": "2018-05-10T01:04:02.869856Z"
    }
   },
   "outputs": [
    {
     "name": "stdout",
     "output_type": "stream",
     "text": [
      "['allendale' 'arlington' 'ashburton' 'barclay' 'beechfield'\n",
      " 'belair-edison' 'brooklyn' 'canton' 'cedonia' 'cherry hill' 'cheswolde'\n",
      " 'coldspring' 'curtis bay' 'dickeyville' 'dorchester' 'downtown'\n",
      " 'druid heights' 'edmondson village' 'federal hill' 'fells point'\n",
      " 'forest park' 'frankford' 'franklintown' 'guilford' 'hampden'\n",
      " 'harlem park' 'hawkins point' 'highlandtown' 'hollins market' 'homeland'\n",
      " 'howard park' 'inner harbor' 'irvington' 'lakeland' 'lauraville'\n",
      " 'little italy' 'loch raven' 'medfield' 'middle east' 'morrell park'\n",
      " 'mount washington' 'mount winans' 'oldtown' 'orangeville' 'penn north'\n",
      " 'poppleton' 'remington' 'reservoir hill' 'sandtown-winchester'\n",
      " 'seton hill' 'ten hills' 'upton' 'violetville' 'walbrook'\n",
      " 'west arlington' 'west hills' 'westport' 'woodberry']\n",
      "58\n"
     ]
    }
   ],
   "source": [
    "unique_neighborhoods_inter = reduce(np.intersect1d, (unique_income_neighborhoods,\n",
    "                                    unique_service_neighborhoods, unique_crime_neighborhoods))\n",
    "\n",
    "print(unique_neighborhoods_inter)\n",
    "print(len(unique_neighborhoods_inter))\n"
   ]
  },
  {
   "cell_type": "code",
   "execution_count": 44,
   "metadata": {
    "ExecuteTime": {
     "end_time": "2018-05-10T04:12:48.153828Z",
     "start_time": "2018-05-10T04:12:48.143802Z"
    }
   },
   "outputs": [
    {
     "data": {
      "text/html": [
       "<div>\n",
       "<style scoped>\n",
       "    .dataframe tbody tr th:only-of-type {\n",
       "        vertical-align: middle;\n",
       "    }\n",
       "\n",
       "    .dataframe tbody tr th {\n",
       "        vertical-align: top;\n",
       "    }\n",
       "\n",
       "    .dataframe thead th {\n",
       "        text-align: right;\n",
       "    }\n",
       "</style>\n",
       "<table border=\"1\" class=\"dataframe\">\n",
       "  <thead>\n",
       "    <tr style=\"text-align: right;\">\n",
       "      <th></th>\n",
       "      <th>Median Household Income</th>\n",
       "      <th>Neighborhood</th>\n",
       "      <th>Total Population</th>\n",
       "    </tr>\n",
       "  </thead>\n",
       "  <tbody>\n",
       "    <tr>\n",
       "      <th>0</th>\n",
       "      <td>37302.17105</td>\n",
       "      <td>allendale</td>\n",
       "      <td>16217</td>\n",
       "    </tr>\n",
       "    <tr>\n",
       "      <th>1</th>\n",
       "      <td>37302.17105</td>\n",
       "      <td>irvington</td>\n",
       "      <td>16217</td>\n",
       "    </tr>\n",
       "    <tr>\n",
       "      <th>3</th>\n",
       "      <td>53565.07970</td>\n",
       "      <td>beechfield</td>\n",
       "      <td>12264</td>\n",
       "    </tr>\n",
       "    <tr>\n",
       "      <th>4</th>\n",
       "      <td>53565.07970</td>\n",
       "      <td>ten hills</td>\n",
       "      <td>12264</td>\n",
       "    </tr>\n",
       "    <tr>\n",
       "      <th>5</th>\n",
       "      <td>53565.07970</td>\n",
       "      <td>west hills</td>\n",
       "      <td>12264</td>\n",
       "    </tr>\n",
       "  </tbody>\n",
       "</table>\n",
       "</div>"
      ],
      "text/plain": [
       "   Median Household Income Neighborhood  Total Population\n",
       "0              37302.17105    allendale             16217\n",
       "1              37302.17105    irvington             16217\n",
       "3              53565.07970   beechfield             12264\n",
       "4              53565.07970    ten hills             12264\n",
       "5              53565.07970   west hills             12264"
      ]
     },
     "execution_count": 44,
     "metadata": {},
     "output_type": "execute_result"
    }
   ],
   "source": [
    "neighbor_filter_income_df = processed_income_df[processed_income_df[\"Neighborhood\"].isin(unique_neighborhoods_inter)]\n",
    "neighbor_filter_income_df.head(5)\n"
   ]
  },
  {
   "cell_type": "code",
   "execution_count": 45,
   "metadata": {
    "ExecuteTime": {
     "end_time": "2018-05-10T04:12:51.875122Z",
     "start_time": "2018-05-10T04:12:51.858472Z"
    }
   },
   "outputs": [
    {
     "data": {
      "text/html": [
       "<div>\n",
       "<style scoped>\n",
       "    .dataframe tbody tr th:only-of-type {\n",
       "        vertical-align: middle;\n",
       "    }\n",
       "\n",
       "    .dataframe tbody tr th {\n",
       "        vertical-align: top;\n",
       "    }\n",
       "\n",
       "    .dataframe thead th {\n",
       "        text-align: right;\n",
       "    }\n",
       "</style>\n",
       "<table border=\"1\" class=\"dataframe\">\n",
       "  <thead>\n",
       "    <tr style=\"text-align: right;\">\n",
       "      <th></th>\n",
       "      <th>Datetime</th>\n",
       "      <th>Day of the Year</th>\n",
       "      <th>Description</th>\n",
       "      <th>District</th>\n",
       "      <th>Neighborhood</th>\n",
       "    </tr>\n",
       "  </thead>\n",
       "  <tbody>\n",
       "    <tr>\n",
       "      <th>2</th>\n",
       "      <td>2016-12-31 23:30:00</td>\n",
       "      <td>366</td>\n",
       "      <td>larceny from auto</td>\n",
       "      <td>southeastern</td>\n",
       "      <td>canton</td>\n",
       "    </tr>\n",
       "    <tr>\n",
       "      <th>5</th>\n",
       "      <td>2016-12-31 23:15:00</td>\n",
       "      <td>366</td>\n",
       "      <td>burglary</td>\n",
       "      <td>southwestern</td>\n",
       "      <td>irvington</td>\n",
       "    </tr>\n",
       "    <tr>\n",
       "      <th>8</th>\n",
       "      <td>2016-12-31 22:30:00</td>\n",
       "      <td>366</td>\n",
       "      <td>robbery - street</td>\n",
       "      <td>northeastern</td>\n",
       "      <td>belair-edison</td>\n",
       "    </tr>\n",
       "    <tr>\n",
       "      <th>11</th>\n",
       "      <td>2016-12-31 21:30:00</td>\n",
       "      <td>366</td>\n",
       "      <td>larceny</td>\n",
       "      <td>western</td>\n",
       "      <td>penn north</td>\n",
       "    </tr>\n",
       "    <tr>\n",
       "      <th>12</th>\n",
       "      <td>2016-12-31 21:27:00</td>\n",
       "      <td>366</td>\n",
       "      <td>common assault</td>\n",
       "      <td>southern</td>\n",
       "      <td>cherry hill</td>\n",
       "    </tr>\n",
       "  </tbody>\n",
       "</table>\n",
       "</div>"
      ],
      "text/plain": [
       "              Datetime  Day of the Year        Description      District  \\\n",
       "2  2016-12-31 23:30:00              366  larceny from auto  southeastern   \n",
       "5  2016-12-31 23:15:00              366           burglary  southwestern   \n",
       "8  2016-12-31 22:30:00              366   robbery - street  northeastern   \n",
       "11 2016-12-31 21:30:00              366            larceny       western   \n",
       "12 2016-12-31 21:27:00              366     common assault      southern   \n",
       "\n",
       "     Neighborhood  \n",
       "2          canton  \n",
       "5       irvington  \n",
       "8   belair-edison  \n",
       "11     penn north  \n",
       "12    cherry hill  "
      ]
     },
     "execution_count": 45,
     "metadata": {},
     "output_type": "execute_result"
    }
   ],
   "source": [
    "neighbor_filter_crime_df = processed_crime_df[processed_crime_df[\"Neighborhood\"].isin(unique_neighborhoods_inter)]\n",
    "neighbor_filter_crime_df.head(5)\n",
    "\n"
   ]
  },
  {
   "cell_type": "code",
   "execution_count": 46,
   "metadata": {
    "ExecuteTime": {
     "end_time": "2018-05-10T04:13:34.055714Z",
     "start_time": "2018-05-10T04:13:33.169230Z"
    }
   },
   "outputs": [
    {
     "data": {
      "text/html": [
       "<div>\n",
       "<style scoped>\n",
       "    .dataframe tbody tr th:only-of-type {\n",
       "        vertical-align: middle;\n",
       "    }\n",
       "\n",
       "    .dataframe tbody tr th {\n",
       "        vertical-align: top;\n",
       "    }\n",
       "\n",
       "    .dataframe thead th {\n",
       "        text-align: right;\n",
       "    }\n",
       "</style>\n",
       "<table border=\"1\" class=\"dataframe\">\n",
       "  <thead>\n",
       "    <tr style=\"text-align: right;\">\n",
       "      <th></th>\n",
       "      <th>Agency</th>\n",
       "      <th>Creation Date</th>\n",
       "      <th>Method Received</th>\n",
       "      <th>Neighborhood</th>\n",
       "      <th>Service Requested Type</th>\n",
       "    </tr>\n",
       "  </thead>\n",
       "  <tbody>\n",
       "    <tr>\n",
       "      <th>0</th>\n",
       "      <td>Bureau of Water and Waste Water</td>\n",
       "      <td>02/01/2015 08:12:00 AM +0000</td>\n",
       "      <td>interface</td>\n",
       "      <td>canton</td>\n",
       "      <td>WW Water Leak (Exterior)</td>\n",
       "    </tr>\n",
       "    <tr>\n",
       "      <th>3</th>\n",
       "      <td>Department of Transportation</td>\n",
       "      <td>02/01/2015 09:24:00 AM +0000</td>\n",
       "      <td>phone</td>\n",
       "      <td>medfield</td>\n",
       "      <td>TRM-Snow/Icy Conditions</td>\n",
       "    </tr>\n",
       "    <tr>\n",
       "      <th>8</th>\n",
       "      <td>Mayors Office of Information Technology</td>\n",
       "      <td>02/01/2015 11:50:00 AM +0000</td>\n",
       "      <td>interface</td>\n",
       "      <td>hollins market</td>\n",
       "      <td>ECC-Miscellaneous Request</td>\n",
       "    </tr>\n",
       "    <tr>\n",
       "      <th>9</th>\n",
       "      <td>Department of Transportation</td>\n",
       "      <td>02/01/2015 12:07:00 PM +0000</td>\n",
       "      <td>interface</td>\n",
       "      <td>belair-edison</td>\n",
       "      <td>BGE-StLight(s) Out Rear</td>\n",
       "    </tr>\n",
       "    <tr>\n",
       "      <th>11</th>\n",
       "      <td>Department of Transportation</td>\n",
       "      <td>10/27/2016 08:24:17 AM +0000</td>\n",
       "      <td>internet</td>\n",
       "      <td>morrell park</td>\n",
       "      <td>TRM-Grass Mowing</td>\n",
       "    </tr>\n",
       "  </tbody>\n",
       "</table>\n",
       "</div>"
      ],
      "text/plain": [
       "                                     Agency                 Creation Date  \\\n",
       "0           Bureau of Water and Waste Water  02/01/2015 08:12:00 AM +0000   \n",
       "3              Department of Transportation  02/01/2015 09:24:00 AM +0000   \n",
       "8   Mayors Office of Information Technology  02/01/2015 11:50:00 AM +0000   \n",
       "9              Department of Transportation  02/01/2015 12:07:00 PM +0000   \n",
       "11             Department of Transportation  10/27/2016 08:24:17 AM +0000   \n",
       "\n",
       "   Method Received    Neighborhood     Service Requested Type  \n",
       "0        interface          canton   WW Water Leak (Exterior)  \n",
       "3            phone        medfield    TRM-Snow/Icy Conditions  \n",
       "8        interface  hollins market  ECC-Miscellaneous Request  \n",
       "9        interface   belair-edison    BGE-StLight(s) Out Rear  \n",
       "11        internet    morrell park           TRM-Grass Mowing  "
      ]
     },
     "execution_count": 46,
     "metadata": {},
     "output_type": "execute_result"
    }
   ],
   "source": [
    "neighbor_filter_service_df = processed_service_df[processed_service_df[\"Neighborhood\"].isin(unique_neighborhoods_inter)]\n",
    "neighbor_filter_service_df.head(5)"
   ]
  },
  {
   "cell_type": "code",
   "execution_count": 47,
   "metadata": {
    "ExecuteTime": {
     "end_time": "2018-05-10T04:18:06.758050Z",
     "start_time": "2018-05-10T04:18:06.750749Z"
    }
   },
   "outputs": [],
   "source": [
    "neighbor_filter_income_df.to_csv(\"income.csv\",encoding=\"utf-8\")"
   ]
  },
  {
   "cell_type": "code",
   "execution_count": 48,
   "metadata": {
    "ExecuteTime": {
     "end_time": "2018-05-10T04:18:08.406217Z",
     "start_time": "2018-05-10T04:18:08.298310Z"
    }
   },
   "outputs": [],
   "source": [
    "neighbor_filter_crime_df.to_csv(\"crime.csv\",encoding=\"utf-8\")"
   ]
  },
  {
   "cell_type": "code",
   "execution_count": 49,
   "metadata": {
    "ExecuteTime": {
     "end_time": "2018-05-10T04:18:12.437533Z",
     "start_time": "2018-05-10T04:18:09.470163Z"
    }
   },
   "outputs": [],
   "source": [
    "neighbor_filter_service_df.to_csv(\"service.csv\",encoding=\"utf-8\")"
   ]
  },
  {
   "cell_type": "code",
   "execution_count": null,
   "metadata": {},
   "outputs": [],
   "source": []
  }
 ],
 "metadata": {
  "kernelspec": {
   "display_name": "Python 3",
   "language": "python",
   "name": "python3"
  },
  "language_info": {
   "codemirror_mode": {
    "name": "ipython",
    "version": 3
   },
   "file_extension": ".py",
   "mimetype": "text/x-python",
   "name": "python",
   "nbconvert_exporter": "python",
   "pygments_lexer": "ipython3",
   "version": "3.6.5"
  }
 },
 "nbformat": 4,
 "nbformat_minor": 2
}
