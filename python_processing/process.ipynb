{
 "cells": [
  {
   "cell_type": "code",
   "execution_count": 17,
   "metadata": {
    "ExecuteTime": {
     "end_time": "2018-05-11T00:53:37.752349Z",
     "start_time": "2018-05-11T00:53:37.749646Z"
    }
   },
   "outputs": [],
   "source": [
    "from datetime import datetime, date\n",
    "from functools import reduce\n",
    "\n",
    "import pandas as pd\n",
    "import numpy as np\n",
    "\n",
    "import math\n",
    "import os\n"
   ]
  },
  {
   "cell_type": "markdown",
   "metadata": {},
   "source": [
    "# Goal of this project is to prepare the assessment of the following question stated below.\n",
    "\n",
    "## Within a district, is there a correlation between the time taken to complete a service request and the total crime in that area? If so, is it possible to predict “crime” based on the district’s service requests? "
   ]
  },
  {
   "cell_type": "markdown",
   "metadata": {},
   "source": [
    "# Begin processing Income Dataframe"
   ]
  },
  {
   "cell_type": "code",
   "execution_count": 23,
   "metadata": {
    "ExecuteTime": {
     "end_time": "2018-05-11T00:53:54.202124Z",
     "start_time": "2018-05-11T00:53:54.194347Z"
    }
   },
   "outputs": [],
   "source": [
    "income_df = pd.read_csv(\"../datasets/Vital_Signs_16_Census_Demographics.csv\")"
   ]
  },
  {
   "cell_type": "code",
   "execution_count": 24,
   "metadata": {
    "ExecuteTime": {
     "end_time": "2018-05-11T00:53:54.818668Z",
     "start_time": "2018-05-11T00:53:54.805739Z"
    },
    "code_folding": []
   },
   "outputs": [],
   "source": [
    "income_neighborhood = []\n",
    "income_total_pop = []\n",
    "income_medium_hh = []\n",
    "\n",
    "for index, row in income_df.iterrows():\n",
    "    if \"/\" in row[\"CSA2010\"]:        \n",
    "        temp_districts = row[\"CSA2010\"].split(\"/\")\n",
    "        \n",
    "        for dist in temp_districts:\n",
    "            income_neighborhood.append(dist.lower())\n",
    "            income_total_pop.append(row[\"tpop10\"])\n",
    "            income_medium_hh.append(row[\"mhhi16\"])\n",
    "    else:\n",
    "        income_neighborhood.append(row[\"CSA2010\"].lower())\n",
    "        income_total_pop.append(row[\"tpop10\"])\n",
    "        income_medium_hh.append(row[\"mhhi16\"])\n",
    "    \n",
    "\n",
    "processed_income = {\n",
    "    'Neighborhood': income_neighborhood,\n",
    "    'Total Population': income_total_pop,\n",
    "    'Median Household Income': income_medium_hh\n",
    "}\n",
    "\n",
    "processed_income_df = pd.DataFrame(data=processed_income)"
   ]
  },
  {
   "cell_type": "code",
   "execution_count": 25,
   "metadata": {
    "ExecuteTime": {
     "end_time": "2018-05-11T00:53:55.087912Z",
     "start_time": "2018-05-11T00:53:55.076440Z"
    }
   },
   "outputs": [
    {
     "data": {
      "text/html": [
       "<div>\n",
       "<style scoped>\n",
       "    .dataframe tbody tr th:only-of-type {\n",
       "        vertical-align: middle;\n",
       "    }\n",
       "\n",
       "    .dataframe tbody tr th {\n",
       "        vertical-align: top;\n",
       "    }\n",
       "\n",
       "    .dataframe thead th {\n",
       "        text-align: right;\n",
       "    }\n",
       "</style>\n",
       "<table border=\"1\" class=\"dataframe\">\n",
       "  <thead>\n",
       "    <tr style=\"text-align: right;\">\n",
       "      <th></th>\n",
       "      <th>Median Household Income</th>\n",
       "      <th>Neighborhood</th>\n",
       "      <th>Total Population</th>\n",
       "    </tr>\n",
       "  </thead>\n",
       "  <tbody>\n",
       "    <tr>\n",
       "      <th>0</th>\n",
       "      <td>37302.17105</td>\n",
       "      <td>allendale</td>\n",
       "      <td>16217</td>\n",
       "    </tr>\n",
       "    <tr>\n",
       "      <th>1</th>\n",
       "      <td>37302.17105</td>\n",
       "      <td>irvington</td>\n",
       "      <td>16217</td>\n",
       "    </tr>\n",
       "    <tr>\n",
       "      <th>2</th>\n",
       "      <td>37302.17105</td>\n",
       "      <td>s. hilton</td>\n",
       "      <td>16217</td>\n",
       "    </tr>\n",
       "    <tr>\n",
       "      <th>3</th>\n",
       "      <td>53565.07970</td>\n",
       "      <td>beechfield</td>\n",
       "      <td>12264</td>\n",
       "    </tr>\n",
       "    <tr>\n",
       "      <th>4</th>\n",
       "      <td>53565.07970</td>\n",
       "      <td>ten hills</td>\n",
       "      <td>12264</td>\n",
       "    </tr>\n",
       "    <tr>\n",
       "      <th>5</th>\n",
       "      <td>53565.07970</td>\n",
       "      <td>west hills</td>\n",
       "      <td>12264</td>\n",
       "    </tr>\n",
       "    <tr>\n",
       "      <th>6</th>\n",
       "      <td>40482.35965</td>\n",
       "      <td>belair-edison</td>\n",
       "      <td>17416</td>\n",
       "    </tr>\n",
       "    <tr>\n",
       "      <th>7</th>\n",
       "      <td>38603.93023</td>\n",
       "      <td>brooklyn</td>\n",
       "      <td>14243</td>\n",
       "    </tr>\n",
       "    <tr>\n",
       "      <th>8</th>\n",
       "      <td>38603.93023</td>\n",
       "      <td>curtis bay</td>\n",
       "      <td>14243</td>\n",
       "    </tr>\n",
       "    <tr>\n",
       "      <th>9</th>\n",
       "      <td>38603.93023</td>\n",
       "      <td>hawkins point</td>\n",
       "      <td>14243</td>\n",
       "    </tr>\n",
       "  </tbody>\n",
       "</table>\n",
       "</div>"
      ],
      "text/plain": [
       "   Median Household Income   Neighborhood  Total Population\n",
       "0              37302.17105      allendale             16217\n",
       "1              37302.17105      irvington             16217\n",
       "2              37302.17105      s. hilton             16217\n",
       "3              53565.07970     beechfield             12264\n",
       "4              53565.07970      ten hills             12264\n",
       "5              53565.07970     west hills             12264\n",
       "6              40482.35965  belair-edison             17416\n",
       "7              38603.93023       brooklyn             14243\n",
       "8              38603.93023     curtis bay             14243\n",
       "9              38603.93023  hawkins point             14243"
      ]
     },
     "execution_count": 25,
     "metadata": {},
     "output_type": "execute_result"
    }
   ],
   "source": [
    "processed_income_df.head(10)"
   ]
  },
  {
   "cell_type": "code",
   "execution_count": 26,
   "metadata": {
    "ExecuteTime": {
     "end_time": "2018-05-11T00:53:55.275916Z",
     "start_time": "2018-05-11T00:53:55.271951Z"
    },
    "scrolled": true
   },
   "outputs": [],
   "source": [
    "unique_income_neighborhoods = np.unique(processed_income_df[\"Neighborhood\"])"
   ]
  },
  {
   "cell_type": "markdown",
   "metadata": {
    "ExecuteTime": {
     "end_time": "2018-05-07T22:38:47.800656Z",
     "start_time": "2018-05-07T22:38:47.738923Z"
    }
   },
   "source": [
    "# Begin processing Crime Dataframe"
   ]
  },
  {
   "cell_type": "code",
   "execution_count": 27,
   "metadata": {
    "ExecuteTime": {
     "end_time": "2018-05-11T00:54:00.878400Z",
     "start_time": "2018-05-11T00:54:00.038562Z"
    }
   },
   "outputs": [],
   "source": [
    "crime_df = pd.read_csv(\"../datasets/BPD_Part_1_Victim_Based_Crime_Data.csv\")"
   ]
  },
  {
   "cell_type": "code",
   "execution_count": 28,
   "metadata": {
    "ExecuteTime": {
     "end_time": "2018-05-11T00:54:00.886092Z",
     "start_time": "2018-05-11T00:54:00.880566Z"
    }
   },
   "outputs": [
    {
     "name": "stdout",
     "output_type": "stream",
     "text": [
      "2016-01-01 00:00:00\n",
      "2016-12-31 23:59:59\n"
     ]
    }
   ],
   "source": [
    "start = datetime(2016, 1, 1, 0, 0, 0)\n",
    "end = datetime(2016, 12, 31, 23, 59, 59)\n",
    "\n",
    "print(start)\n",
    "print(end)"
   ]
  },
  {
   "cell_type": "code",
   "execution_count": 29,
   "metadata": {
    "ExecuteTime": {
     "end_time": "2018-05-11T00:54:34.519790Z",
     "start_time": "2018-05-11T00:54:00.890072Z"
    },
    "code_folding": [
     36
    ]
   },
   "outputs": [],
   "source": [
    "# Preprocess crime data from BDP Dataset\n",
    "crime_datetime = []\n",
    "crime_datetimeofyear = []\n",
    "crime_descript = []\n",
    "crime_district = []\n",
    "crime_neighbor = []\n",
    "\n",
    "# Iterate through all rows, attempt to get datetime columns parsed and working\n",
    "for index, row in crime_df.iterrows():\n",
    "    datetime_str = \"{} {}\".format(row[\"CrimeDate\"], row[\"CrimeTime\"])\n",
    "    worked_first_parse = False\n",
    "    \n",
    "    try:\n",
    "        datetime_processed = datetime.strptime(datetime_str, '%m/%d/%Y %H:%M:%S')\n",
    "        worked_first_parse = True\n",
    "        \n",
    "    except ValueError as e:\n",
    "        pass\n",
    "\n",
    "    if not worked_first_parse:\n",
    "        try:\n",
    "            datetime_processed = datetime.strptime(datetime_str, '%m/%d/%Y %H%M')\n",
    "        except ValueError as e:\n",
    "            continue\n",
    "\n",
    "    if start <= datetime_processed <= end:\n",
    "        n = row[\"Neighborhood\"]\n",
    "        if isinstance(n, str):\n",
    "            pd_dt = pd.to_datetime(datetime_processed)\n",
    "            crime_datetime.append(pd_dt)\n",
    "            crime_datetimeofyear.append(pd_dt.dayofyear)\n",
    "            crime_descript.append(row[\"Description\"].lower())\n",
    "            crime_district.append(row[\"District\"].lower())\n",
    "            crime_neighbor.append(row[\"Neighborhood\"].lower())\n",
    "        \n",
    "# Append to a new dataframe\n",
    "processed_crime = {\n",
    "    'Datetime': crime_datetime,\n",
    "    'Day of the Year': crime_datetimeofyear,\n",
    "    'Description': crime_descript,\n",
    "    'District': crime_district,\n",
    "    'Neighborhood': crime_neighbor\n",
    "}\n",
    "\n",
    "processed_crime_df = pd.DataFrame(data=processed_crime)\n"
   ]
  },
  {
   "cell_type": "code",
   "execution_count": 30,
   "metadata": {
    "ExecuteTime": {
     "end_time": "2018-05-11T00:54:34.525495Z",
     "start_time": "2018-05-11T00:54:34.522355Z"
    }
   },
   "outputs": [],
   "source": [
    "# wow = crime_df.groupby(['Day of the Year', \"Neighborhood\"]).size().reset_index(name=\"WOW\")\n",
    "# crime_df.to_csv(\"lmao.csv\", encoding=\"utf-8\")\n",
    "# len(processed_crime_df)\n",
    "# processed_crime_df.head(10)"
   ]
  },
  {
   "cell_type": "code",
   "execution_count": 31,
   "metadata": {
    "ExecuteTime": {
     "end_time": "2018-05-11T00:54:34.591789Z",
     "start_time": "2018-05-11T00:54:34.528477Z"
    }
   },
   "outputs": [],
   "source": [
    "unique_crime_neighborhoods = np.unique(processed_crime_df[\"Neighborhood\"])"
   ]
  },
  {
   "cell_type": "markdown",
   "metadata": {},
   "source": [
    "# Begin processing service Dataframe"
   ]
  },
  {
   "cell_type": "code",
   "execution_count": 53,
   "metadata": {
    "ExecuteTime": {
     "end_time": "2018-05-11T02:14:09.687348Z",
     "start_time": "2018-05-11T02:14:09.129424Z"
    }
   },
   "outputs": [],
   "source": [
    "sample = 100000\n",
    "service_df = pd.read_csv(\"../datasets/311_Customer_Service_Requests.csv\", nrows=sample)"
   ]
  },
  {
   "cell_type": "code",
   "execution_count": 54,
   "metadata": {
    "ExecuteTime": {
     "end_time": "2018-05-11T02:14:26.127826Z",
     "start_time": "2018-05-11T02:14:26.107793Z"
    }
   },
   "outputs": [
    {
     "data": {
      "text/html": [
       "<div>\n",
       "<style scoped>\n",
       "    .dataframe tbody tr th:only-of-type {\n",
       "        vertical-align: middle;\n",
       "    }\n",
       "\n",
       "    .dataframe tbody tr th {\n",
       "        vertical-align: top;\n",
       "    }\n",
       "\n",
       "    .dataframe thead th {\n",
       "        text-align: right;\n",
       "    }\n",
       "</style>\n",
       "<table border=\"1\" class=\"dataframe\">\n",
       "  <thead>\n",
       "    <tr style=\"text-align: right;\">\n",
       "      <th></th>\n",
       "      <th>SRRecordID</th>\n",
       "      <th>ServiceRequesNum</th>\n",
       "      <th>SRType</th>\n",
       "      <th>Agency</th>\n",
       "      <th>Neighborhood</th>\n",
       "      <th>StreetAddress</th>\n",
       "      <th>ZipCode</th>\n",
       "      <th>MethodReceived</th>\n",
       "      <th>SRStatus</th>\n",
       "      <th>CreatedDate</th>\n",
       "      <th>StatusDate</th>\n",
       "      <th>DueDate</th>\n",
       "      <th>LastActivity</th>\n",
       "      <th>Outcome</th>\n",
       "      <th>LastActivityDate</th>\n",
       "      <th>GeoLocation</th>\n",
       "    </tr>\n",
       "  </thead>\n",
       "  <tbody>\n",
       "    <tr>\n",
       "      <th>0</th>\n",
       "      <td>1094344940</td>\n",
       "      <td>15-00072082</td>\n",
       "      <td>WW Water Leak (Exterior)</td>\n",
       "      <td>Bureau of Water and Waste Water</td>\n",
       "      <td>CANTON</td>\n",
       "      <td>1013 S CLINTON ST</td>\n",
       "      <td>21224</td>\n",
       "      <td>Interface</td>\n",
       "      <td>CLOSED</td>\n",
       "      <td>02/01/2015 08:12:00 AM +0000</td>\n",
       "      <td>02/01/2015 06:23:00 PM +0000</td>\n",
       "      <td>02/03/2015 08:12:00 AM +0000</td>\n",
       "      <td>Cityworks SR Comments</td>\n",
       "      <td>UPDATED</td>\n",
       "      <td>NaN</td>\n",
       "      <td>NaN</td>\n",
       "    </tr>\n",
       "    <tr>\n",
       "      <th>1</th>\n",
       "      <td>1094344982</td>\n",
       "      <td>15-00072083</td>\n",
       "      <td>BCLB-Liquor License Complaint</td>\n",
       "      <td>Liquor License Board</td>\n",
       "      <td>GREEKTOWN</td>\n",
       "      <td>500 S LEHIGH ST</td>\n",
       "      <td>21224</td>\n",
       "      <td>Interface</td>\n",
       "      <td>CLOSED</td>\n",
       "      <td>02/01/2015 08:48:00 AM +0000</td>\n",
       "      <td>02/18/2015 09:12:00 PM +0000</td>\n",
       "      <td>03/21/2015 07:48:00 AM +0000</td>\n",
       "      <td>Dispatch Investigator</td>\n",
       "      <td>Closed</td>\n",
       "      <td>NaN</td>\n",
       "      <td>NaN</td>\n",
       "    </tr>\n",
       "  </tbody>\n",
       "</table>\n",
       "</div>"
      ],
      "text/plain": [
       "   SRRecordID ServiceRequesNum                         SRType  \\\n",
       "0  1094344940      15-00072082       WW Water Leak (Exterior)   \n",
       "1  1094344982      15-00072083  BCLB-Liquor License Complaint   \n",
       "\n",
       "                            Agency Neighborhood       StreetAddress ZipCode  \\\n",
       "0  Bureau of Water and Waste Water       CANTON  1013 S CLINTON ST    21224   \n",
       "1             Liquor License Board    GREEKTOWN    500 S LEHIGH ST    21224   \n",
       "\n",
       "  MethodReceived SRStatus                   CreatedDate  \\\n",
       "0      Interface   CLOSED  02/01/2015 08:12:00 AM +0000   \n",
       "1      Interface   CLOSED  02/01/2015 08:48:00 AM +0000   \n",
       "\n",
       "                     StatusDate                       DueDate  \\\n",
       "0  02/01/2015 06:23:00 PM +0000  02/03/2015 08:12:00 AM +0000   \n",
       "1  02/18/2015 09:12:00 PM +0000  03/21/2015 07:48:00 AM +0000   \n",
       "\n",
       "            LastActivity  Outcome LastActivityDate GeoLocation  \n",
       "0  Cityworks SR Comments  UPDATED              NaN         NaN  \n",
       "1  Dispatch Investigator   Closed              NaN         NaN  "
      ]
     },
     "execution_count": 54,
     "metadata": {},
     "output_type": "execute_result"
    }
   ],
   "source": [
    "service_df.head(2)"
   ]
  },
  {
   "cell_type": "code",
   "execution_count": 55,
   "metadata": {
    "ExecuteTime": {
     "end_time": "2018-05-11T02:14:32.688974Z",
     "start_time": "2018-05-11T02:14:32.684408Z"
    }
   },
   "outputs": [
    {
     "name": "stdout",
     "output_type": "stream",
     "text": [
      "2016-01-01 00:00:00\n",
      "2016-12-31 23:59:59\n"
     ]
    }
   ],
   "source": [
    "start = datetime(2016, 1, 1, 0, 0, 0)\n",
    "end = datetime(2016, 12, 31, 23, 59, 59)\n",
    "print(start)\n",
    "print(end)"
   ]
  },
  {
   "cell_type": "code",
   "execution_count": 68,
   "metadata": {
    "ExecuteTime": {
     "end_time": "2018-05-11T02:30:27.555610Z",
     "start_time": "2018-05-11T02:30:17.234336Z"
    }
   },
   "outputs": [],
   "source": [
    "service_type = []\n",
    "service_agency = []\n",
    "service_neighborhood = []\n",
    "service_method_received = []\n",
    "service_creation_date = []\n",
    "service_completion_date = []\n",
    "\n",
    "for index, row in service_df.iterrows():\n",
    "    sr_status = row[\"SRStatus\"].lower()\n",
    "\n",
    "    if sr_status == \"closed\":\n",
    "        service_type.append(row[\"SRType\"])\n",
    "        service_agency.append(row[\"Agency\"])\n",
    "        service_neighborhood.append(row[\"Neighborhood\"].lower())\n",
    "        service_method_received.append(row[\"MethodReceived\"].lower())\n",
    "        service_creation_date.append(row[\"CreatedDate\"])\n",
    "        service_completion_date.append(row[\"StatusDate\"])\n",
    "\n",
    "\n",
    "processed_service = {\n",
    "    'Service Requested Type': service_type,\n",
    "    'Agency': service_agency,\n",
    "    'Neighborhood': service_neighborhood,\n",
    "    'Method Received': service_method_received,\n",
    "    'Creation Date': service_creation_date,\n",
    "    'Closed Date': service_completion_date\n",
    "}\n",
    "\n",
    "processed_service_df = pd.DataFrame(data=processed_service)"
   ]
  },
  {
   "cell_type": "code",
   "execution_count": 75,
   "metadata": {
    "ExecuteTime": {
     "end_time": "2018-05-11T02:59:50.060978Z",
     "start_time": "2018-05-11T02:59:35.792267Z"
    }
   },
   "outputs": [],
   "source": [
    "processed_service_df[\"Creation Date\"] = pd.to_datetime(processed_service_df[\"Creation Date\"])"
   ]
  },
  {
   "cell_type": "code",
   "execution_count": 76,
   "metadata": {
    "ExecuteTime": {
     "end_time": "2018-05-11T03:00:24.105924Z",
     "start_time": "2018-05-11T03:00:08.691175Z"
    }
   },
   "outputs": [],
   "source": [
    "processed_service_df[\"Closed Date\"] = pd.to_datetime(processed_service_df[\"Closed Date\"])"
   ]
  },
  {
   "cell_type": "code",
   "execution_count": 77,
   "metadata": {
    "ExecuteTime": {
     "end_time": "2018-05-11T03:00:28.634945Z",
     "start_time": "2018-05-11T03:00:28.618780Z"
    }
   },
   "outputs": [
    {
     "data": {
      "text/html": [
       "<div>\n",
       "<style scoped>\n",
       "    .dataframe tbody tr th:only-of-type {\n",
       "        vertical-align: middle;\n",
       "    }\n",
       "\n",
       "    .dataframe tbody tr th {\n",
       "        vertical-align: top;\n",
       "    }\n",
       "\n",
       "    .dataframe thead th {\n",
       "        text-align: right;\n",
       "    }\n",
       "</style>\n",
       "<table border=\"1\" class=\"dataframe\">\n",
       "  <thead>\n",
       "    <tr style=\"text-align: right;\">\n",
       "      <th></th>\n",
       "      <th>Agency</th>\n",
       "      <th>Closed Date</th>\n",
       "      <th>Creation Date</th>\n",
       "      <th>Method Received</th>\n",
       "      <th>Neighborhood</th>\n",
       "      <th>Service Requested Type</th>\n",
       "    </tr>\n",
       "  </thead>\n",
       "  <tbody>\n",
       "    <tr>\n",
       "      <th>0</th>\n",
       "      <td>Bureau of Water and Waste Water</td>\n",
       "      <td>2015-02-01 18:23:00</td>\n",
       "      <td>2015-02-01 08:12:00</td>\n",
       "      <td>interface</td>\n",
       "      <td>canton</td>\n",
       "      <td>WW Water Leak (Exterior)</td>\n",
       "    </tr>\n",
       "    <tr>\n",
       "      <th>1</th>\n",
       "      <td>Liquor License Board</td>\n",
       "      <td>2015-02-18 21:12:00</td>\n",
       "      <td>2015-02-01 08:48:00</td>\n",
       "      <td>interface</td>\n",
       "      <td>greektown</td>\n",
       "      <td>BCLB-Liquor License Complaint</td>\n",
       "    </tr>\n",
       "  </tbody>\n",
       "</table>\n",
       "</div>"
      ],
      "text/plain": [
       "                            Agency         Closed Date       Creation Date  \\\n",
       "0  Bureau of Water and Waste Water 2015-02-01 18:23:00 2015-02-01 08:12:00   \n",
       "1             Liquor License Board 2015-02-18 21:12:00 2015-02-01 08:48:00   \n",
       "\n",
       "  Method Received Neighborhood         Service Requested Type  \n",
       "0       interface       canton       WW Water Leak (Exterior)  \n",
       "1       interface    greektown  BCLB-Liquor License Complaint  "
      ]
     },
     "execution_count": 77,
     "metadata": {},
     "output_type": "execute_result"
    }
   ],
   "source": [
    "# print(len(processed_service_df))\n",
    "# processed_service_df.head(2)"
   ]
  },
  {
   "cell_type": "code",
   "execution_count": null,
   "metadata": {},
   "outputs": [],
   "source": []
  },
  {
   "cell_type": "code",
   "execution_count": 73,
   "metadata": {
    "ExecuteTime": {
     "end_time": "2018-05-11T02:48:03.894751Z",
     "start_time": "2018-05-11T02:48:03.776268Z"
    }
   },
   "outputs": [],
   "source": [
    "unique_service_neighborhoods = np.unique(processed_service_df[\"Neighborhood\"])\n"
   ]
  },
  {
   "cell_type": "markdown",
   "metadata": {},
   "source": [
    "# Begin intersecting data and only using districts that have been defined uniformly"
   ]
  },
  {
   "cell_type": "code",
   "execution_count": 22,
   "metadata": {
    "ExecuteTime": {
     "end_time": "2018-05-10T01:04:02.876065Z",
     "start_time": "2018-05-10T01:04:02.869856Z"
    }
   },
   "outputs": [
    {
     "name": "stdout",
     "output_type": "stream",
     "text": [
      "['allendale' 'arlington' 'ashburton' 'barclay' 'beechfield'\n",
      " 'belair-edison' 'brooklyn' 'canton' 'cedonia' 'cherry hill' 'cheswolde'\n",
      " 'coldspring' 'curtis bay' 'dickeyville' 'dorchester' 'downtown'\n",
      " 'druid heights' 'edmondson village' 'federal hill' 'fells point'\n",
      " 'forest park' 'frankford' 'franklintown' 'guilford' 'hampden'\n",
      " 'harlem park' 'hawkins point' 'highlandtown' 'hollins market' 'homeland'\n",
      " 'howard park' 'inner harbor' 'irvington' 'lakeland' 'lauraville'\n",
      " 'little italy' 'loch raven' 'medfield' 'middle east' 'morrell park'\n",
      " 'mount washington' 'mount winans' 'oldtown' 'orangeville' 'penn north'\n",
      " 'poppleton' 'remington' 'reservoir hill' 'sandtown-winchester'\n",
      " 'seton hill' 'ten hills' 'upton' 'violetville' 'walbrook'\n",
      " 'west arlington' 'west hills' 'westport' 'woodberry']\n",
      "58\n"
     ]
    }
   ],
   "source": [
    "unique_neighborhoods_inter = reduce(np.intersect1d, (unique_income_neighborhoods,\n",
    "                                    unique_service_neighborhoods, unique_crime_neighborhoods))\n",
    "\n",
    "print(unique_neighborhoods_inter)\n",
    "print(len(unique_neighborhoods_inter))\n"
   ]
  },
  {
   "cell_type": "code",
   "execution_count": 44,
   "metadata": {
    "ExecuteTime": {
     "end_time": "2018-05-10T04:12:48.153828Z",
     "start_time": "2018-05-10T04:12:48.143802Z"
    }
   },
   "outputs": [
    {
     "data": {
      "text/html": [
       "<div>\n",
       "<style scoped>\n",
       "    .dataframe tbody tr th:only-of-type {\n",
       "        vertical-align: middle;\n",
       "    }\n",
       "\n",
       "    .dataframe tbody tr th {\n",
       "        vertical-align: top;\n",
       "    }\n",
       "\n",
       "    .dataframe thead th {\n",
       "        text-align: right;\n",
       "    }\n",
       "</style>\n",
       "<table border=\"1\" class=\"dataframe\">\n",
       "  <thead>\n",
       "    <tr style=\"text-align: right;\">\n",
       "      <th></th>\n",
       "      <th>Median Household Income</th>\n",
       "      <th>Neighborhood</th>\n",
       "      <th>Total Population</th>\n",
       "    </tr>\n",
       "  </thead>\n",
       "  <tbody>\n",
       "    <tr>\n",
       "      <th>0</th>\n",
       "      <td>37302.17105</td>\n",
       "      <td>allendale</td>\n",
       "      <td>16217</td>\n",
       "    </tr>\n",
       "    <tr>\n",
       "      <th>1</th>\n",
       "      <td>37302.17105</td>\n",
       "      <td>irvington</td>\n",
       "      <td>16217</td>\n",
       "    </tr>\n",
       "    <tr>\n",
       "      <th>3</th>\n",
       "      <td>53565.07970</td>\n",
       "      <td>beechfield</td>\n",
       "      <td>12264</td>\n",
       "    </tr>\n",
       "    <tr>\n",
       "      <th>4</th>\n",
       "      <td>53565.07970</td>\n",
       "      <td>ten hills</td>\n",
       "      <td>12264</td>\n",
       "    </tr>\n",
       "    <tr>\n",
       "      <th>5</th>\n",
       "      <td>53565.07970</td>\n",
       "      <td>west hills</td>\n",
       "      <td>12264</td>\n",
       "    </tr>\n",
       "  </tbody>\n",
       "</table>\n",
       "</div>"
      ],
      "text/plain": [
       "   Median Household Income Neighborhood  Total Population\n",
       "0              37302.17105    allendale             16217\n",
       "1              37302.17105    irvington             16217\n",
       "3              53565.07970   beechfield             12264\n",
       "4              53565.07970    ten hills             12264\n",
       "5              53565.07970   west hills             12264"
      ]
     },
     "execution_count": 44,
     "metadata": {},
     "output_type": "execute_result"
    }
   ],
   "source": [
    "neighbor_filter_income_df = processed_income_df[processed_income_df[\"Neighborhood\"].isin(unique_neighborhoods_inter)]\n",
    "neighbor_filter_income_df.head(5)\n"
   ]
  },
  {
   "cell_type": "code",
   "execution_count": 45,
   "metadata": {
    "ExecuteTime": {
     "end_time": "2018-05-10T04:12:51.875122Z",
     "start_time": "2018-05-10T04:12:51.858472Z"
    }
   },
   "outputs": [
    {
     "data": {
      "text/html": [
       "<div>\n",
       "<style scoped>\n",
       "    .dataframe tbody tr th:only-of-type {\n",
       "        vertical-align: middle;\n",
       "    }\n",
       "\n",
       "    .dataframe tbody tr th {\n",
       "        vertical-align: top;\n",
       "    }\n",
       "\n",
       "    .dataframe thead th {\n",
       "        text-align: right;\n",
       "    }\n",
       "</style>\n",
       "<table border=\"1\" class=\"dataframe\">\n",
       "  <thead>\n",
       "    <tr style=\"text-align: right;\">\n",
       "      <th></th>\n",
       "      <th>Datetime</th>\n",
       "      <th>Day of the Year</th>\n",
       "      <th>Description</th>\n",
       "      <th>District</th>\n",
       "      <th>Neighborhood</th>\n",
       "    </tr>\n",
       "  </thead>\n",
       "  <tbody>\n",
       "    <tr>\n",
       "      <th>2</th>\n",
       "      <td>2016-12-31 23:30:00</td>\n",
       "      <td>366</td>\n",
       "      <td>larceny from auto</td>\n",
       "      <td>southeastern</td>\n",
       "      <td>canton</td>\n",
       "    </tr>\n",
       "    <tr>\n",
       "      <th>5</th>\n",
       "      <td>2016-12-31 23:15:00</td>\n",
       "      <td>366</td>\n",
       "      <td>burglary</td>\n",
       "      <td>southwestern</td>\n",
       "      <td>irvington</td>\n",
       "    </tr>\n",
       "    <tr>\n",
       "      <th>8</th>\n",
       "      <td>2016-12-31 22:30:00</td>\n",
       "      <td>366</td>\n",
       "      <td>robbery - street</td>\n",
       "      <td>northeastern</td>\n",
       "      <td>belair-edison</td>\n",
       "    </tr>\n",
       "    <tr>\n",
       "      <th>11</th>\n",
       "      <td>2016-12-31 21:30:00</td>\n",
       "      <td>366</td>\n",
       "      <td>larceny</td>\n",
       "      <td>western</td>\n",
       "      <td>penn north</td>\n",
       "    </tr>\n",
       "    <tr>\n",
       "      <th>12</th>\n",
       "      <td>2016-12-31 21:27:00</td>\n",
       "      <td>366</td>\n",
       "      <td>common assault</td>\n",
       "      <td>southern</td>\n",
       "      <td>cherry hill</td>\n",
       "    </tr>\n",
       "  </tbody>\n",
       "</table>\n",
       "</div>"
      ],
      "text/plain": [
       "              Datetime  Day of the Year        Description      District  \\\n",
       "2  2016-12-31 23:30:00              366  larceny from auto  southeastern   \n",
       "5  2016-12-31 23:15:00              366           burglary  southwestern   \n",
       "8  2016-12-31 22:30:00              366   robbery - street  northeastern   \n",
       "11 2016-12-31 21:30:00              366            larceny       western   \n",
       "12 2016-12-31 21:27:00              366     common assault      southern   \n",
       "\n",
       "     Neighborhood  \n",
       "2          canton  \n",
       "5       irvington  \n",
       "8   belair-edison  \n",
       "11     penn north  \n",
       "12    cherry hill  "
      ]
     },
     "execution_count": 45,
     "metadata": {},
     "output_type": "execute_result"
    }
   ],
   "source": [
    "neighbor_filter_crime_df = processed_crime_df[processed_crime_df[\"Neighborhood\"].isin(unique_neighborhoods_inter)]\n",
    "neighbor_filter_crime_df.head(5)\n",
    "\n"
   ]
  },
  {
   "cell_type": "code",
   "execution_count": 46,
   "metadata": {
    "ExecuteTime": {
     "end_time": "2018-05-10T04:13:34.055714Z",
     "start_time": "2018-05-10T04:13:33.169230Z"
    }
   },
   "outputs": [
    {
     "data": {
      "text/html": [
       "<div>\n",
       "<style scoped>\n",
       "    .dataframe tbody tr th:only-of-type {\n",
       "        vertical-align: middle;\n",
       "    }\n",
       "\n",
       "    .dataframe tbody tr th {\n",
       "        vertical-align: top;\n",
       "    }\n",
       "\n",
       "    .dataframe thead th {\n",
       "        text-align: right;\n",
       "    }\n",
       "</style>\n",
       "<table border=\"1\" class=\"dataframe\">\n",
       "  <thead>\n",
       "    <tr style=\"text-align: right;\">\n",
       "      <th></th>\n",
       "      <th>Agency</th>\n",
       "      <th>Creation Date</th>\n",
       "      <th>Method Received</th>\n",
       "      <th>Neighborhood</th>\n",
       "      <th>Service Requested Type</th>\n",
       "    </tr>\n",
       "  </thead>\n",
       "  <tbody>\n",
       "    <tr>\n",
       "      <th>0</th>\n",
       "      <td>Bureau of Water and Waste Water</td>\n",
       "      <td>02/01/2015 08:12:00 AM +0000</td>\n",
       "      <td>interface</td>\n",
       "      <td>canton</td>\n",
       "      <td>WW Water Leak (Exterior)</td>\n",
       "    </tr>\n",
       "    <tr>\n",
       "      <th>3</th>\n",
       "      <td>Department of Transportation</td>\n",
       "      <td>02/01/2015 09:24:00 AM +0000</td>\n",
       "      <td>phone</td>\n",
       "      <td>medfield</td>\n",
       "      <td>TRM-Snow/Icy Conditions</td>\n",
       "    </tr>\n",
       "    <tr>\n",
       "      <th>8</th>\n",
       "      <td>Mayors Office of Information Technology</td>\n",
       "      <td>02/01/2015 11:50:00 AM +0000</td>\n",
       "      <td>interface</td>\n",
       "      <td>hollins market</td>\n",
       "      <td>ECC-Miscellaneous Request</td>\n",
       "    </tr>\n",
       "    <tr>\n",
       "      <th>9</th>\n",
       "      <td>Department of Transportation</td>\n",
       "      <td>02/01/2015 12:07:00 PM +0000</td>\n",
       "      <td>interface</td>\n",
       "      <td>belair-edison</td>\n",
       "      <td>BGE-StLight(s) Out Rear</td>\n",
       "    </tr>\n",
       "    <tr>\n",
       "      <th>11</th>\n",
       "      <td>Department of Transportation</td>\n",
       "      <td>10/27/2016 08:24:17 AM +0000</td>\n",
       "      <td>internet</td>\n",
       "      <td>morrell park</td>\n",
       "      <td>TRM-Grass Mowing</td>\n",
       "    </tr>\n",
       "  </tbody>\n",
       "</table>\n",
       "</div>"
      ],
      "text/plain": [
       "                                     Agency                 Creation Date  \\\n",
       "0           Bureau of Water and Waste Water  02/01/2015 08:12:00 AM +0000   \n",
       "3              Department of Transportation  02/01/2015 09:24:00 AM +0000   \n",
       "8   Mayors Office of Information Technology  02/01/2015 11:50:00 AM +0000   \n",
       "9              Department of Transportation  02/01/2015 12:07:00 PM +0000   \n",
       "11             Department of Transportation  10/27/2016 08:24:17 AM +0000   \n",
       "\n",
       "   Method Received    Neighborhood     Service Requested Type  \n",
       "0        interface          canton   WW Water Leak (Exterior)  \n",
       "3            phone        medfield    TRM-Snow/Icy Conditions  \n",
       "8        interface  hollins market  ECC-Miscellaneous Request  \n",
       "9        interface   belair-edison    BGE-StLight(s) Out Rear  \n",
       "11        internet    morrell park           TRM-Grass Mowing  "
      ]
     },
     "execution_count": 46,
     "metadata": {},
     "output_type": "execute_result"
    }
   ],
   "source": [
    "neighbor_filter_service_df = processed_service_df[processed_service_df[\"Neighborhood\"].isin(unique_neighborhoods_inter)]\n",
    "neighbor_filter_service_df.head(5)"
   ]
  },
  {
   "cell_type": "code",
   "execution_count": 14,
   "metadata": {
    "ExecuteTime": {
     "end_time": "2018-05-11T00:51:32.937678Z",
     "start_time": "2018-05-11T00:51:32.934159Z"
    }
   },
   "outputs": [],
   "source": [
    "PROCESSED_DATA_DIR = \"../datasets/processed_data\""
   ]
  },
  {
   "cell_type": "code",
   "execution_count": 16,
   "metadata": {
    "ExecuteTime": {
     "end_time": "2018-05-11T00:53:31.724558Z",
     "start_time": "2018-05-11T00:53:31.714594Z"
    }
   },
   "outputs": [
    {
     "ename": "NameError",
     "evalue": "name 'neighbor_filter_income_df' is not defined",
     "output_type": "error",
     "traceback": [
      "\u001b[0;31m---------------------------------------------------------------------------\u001b[0m",
      "\u001b[0;31mNameError\u001b[0m                                 Traceback (most recent call last)",
      "\u001b[0;32m<ipython-input-16-05654f6583a0>\u001b[0m in \u001b[0;36m<module>\u001b[0;34m()\u001b[0m\n\u001b[1;32m      2\u001b[0m \u001b[0mfile_path\u001b[0m \u001b[0;34m=\u001b[0m \u001b[0mos\u001b[0m\u001b[0;34m.\u001b[0m\u001b[0mpath\u001b[0m\u001b[0;34m.\u001b[0m\u001b[0mjoin\u001b[0m\u001b[0;34m(\u001b[0m\u001b[0mPROCESSED_DATA_DIR\u001b[0m\u001b[0;34m,\u001b[0m \u001b[0mfilename\u001b[0m\u001b[0;34m)\u001b[0m\u001b[0;34m\u001b[0m\u001b[0m\n\u001b[1;32m      3\u001b[0m \u001b[0;34m\u001b[0m\u001b[0m\n\u001b[0;32m----> 4\u001b[0;31m \u001b[0mneighbor_filter_income_df\u001b[0m\u001b[0;34m.\u001b[0m\u001b[0mto_csv\u001b[0m\u001b[0;34m(\u001b[0m\u001b[0mfile_path\u001b[0m\u001b[0;34m,\u001b[0m\u001b[0mencoding\u001b[0m\u001b[0;34m=\u001b[0m\u001b[0;34m\"utf-8\"\u001b[0m\u001b[0;34m)\u001b[0m\u001b[0;34m\u001b[0m\u001b[0m\n\u001b[0m",
      "\u001b[0;31mNameError\u001b[0m: name 'neighbor_filter_income_df' is not defined"
     ]
    }
   ],
   "source": [
    "filename = \"income.csv\"\n",
    "file_path = os.path.join(PROCESSED_DATA_DIR, filename)\n",
    "\n",
    "neighbor_filter_income_df.to_csv(file_path,encoding=\"utf-8\")"
   ]
  },
  {
   "cell_type": "code",
   "execution_count": null,
   "metadata": {},
   "outputs": [],
   "source": [
    "filename = \"crime.csv\"\n",
    "file_path = os.path.join(PROCESSED_DATA_DIR, filename)\n",
    "\n",
    "neighbor_filter_crime_df.to_csv(file_path,encoding=\"utf-8\")"
   ]
  },
  {
   "cell_type": "code",
   "execution_count": 51,
   "metadata": {
    "ExecuteTime": {
     "end_time": "2018-05-10T04:21:05.998202Z",
     "start_time": "2018-05-10T04:21:05.894914Z"
    }
   },
   "outputs": [],
   "source": [
    "filename = \"service.csv\"\n",
    "file_path = os.path.join(PROCESSED_DATA_DIR, filename)\n",
    "\n",
    "neighbor_filter_service_df.to_csv(file_path,encoding=\"utf-8\")"
   ]
  },
  {
   "cell_type": "code",
   "execution_count": 52,
   "metadata": {
    "ExecuteTime": {
     "end_time": "2018-05-10T04:21:09.418292Z",
     "start_time": "2018-05-10T04:21:06.330518Z"
    }
   },
   "outputs": [],
   "source": []
  },
  {
   "cell_type": "code",
   "execution_count": null,
   "metadata": {},
   "outputs": [],
   "source": []
  }
 ],
 "metadata": {
  "kernelspec": {
   "display_name": "Python 3",
   "language": "python",
   "name": "python3"
  },
  "language_info": {
   "codemirror_mode": {
    "name": "ipython",
    "version": 3
   },
   "file_extension": ".py",
   "mimetype": "text/x-python",
   "name": "python",
   "nbconvert_exporter": "python",
   "pygments_lexer": "ipython3",
   "version": "3.6.5"
  }
 },
 "nbformat": 4,
 "nbformat_minor": 2
}
