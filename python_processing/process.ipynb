{
 "cells": [
  {
   "cell_type": "code",
   "execution_count": 1,
   "metadata": {
    "ExecuteTime": {
     "end_time": "2018-05-11T03:15:50.146670Z",
     "start_time": "2018-05-11T03:15:49.095425Z"
    }
   },
   "outputs": [],
   "source": [
    "from datetime import datetime, date\n",
    "from functools import reduce\n",
    "\n",
    "import pandas as pd\n",
    "import numpy as np\n",
    "\n",
    "import math\n",
    "import os\n"
   ]
  },
  {
   "cell_type": "markdown",
   "metadata": {},
   "source": [
    "# Goal of this project is to prepare the assessment of the following question stated below.\n",
    "\n",
    "## Within a district, is there a correlation between the time taken to complete a service request and the total crime in that area? If so, is it possible to predict “crime” based on the district’s service requests? "
   ]
  },
  {
   "cell_type": "markdown",
   "metadata": {},
   "source": [
    "# Begin processing Income Dataframe"
   ]
  },
  {
   "cell_type": "code",
   "execution_count": 2,
   "metadata": {
    "ExecuteTime": {
     "end_time": "2018-05-11T03:15:51.804598Z",
     "start_time": "2018-05-11T03:15:51.796092Z"
    }
   },
   "outputs": [],
   "source": [
    "income_df = pd.read_csv(\"../datasets/Vital_Signs_16_Census_Demographics.csv\")"
   ]
  },
  {
   "cell_type": "code",
   "execution_count": 3,
   "metadata": {
    "ExecuteTime": {
     "end_time": "2018-05-11T03:15:52.966931Z",
     "start_time": "2018-05-11T03:15:52.951737Z"
    },
    "code_folding": []
   },
   "outputs": [],
   "source": [
    "income_neighborhood = []\n",
    "income_total_pop = []\n",
    "income_medium_hh = []\n",
    "\n",
    "for index, row in income_df.iterrows():\n",
    "    if \"/\" in row[\"CSA2010\"]:        \n",
    "        temp_districts = row[\"CSA2010\"].split(\"/\")\n",
    "        \n",
    "        for dist in temp_districts:\n",
    "            income_neighborhood.append(dist.lower())\n",
    "            income_total_pop.append(row[\"tpop10\"])\n",
    "            income_medium_hh.append(row[\"mhhi16\"])\n",
    "    else:\n",
    "        income_neighborhood.append(row[\"CSA2010\"].lower())\n",
    "        income_total_pop.append(row[\"tpop10\"])\n",
    "        income_medium_hh.append(row[\"mhhi16\"])\n",
    "    \n",
    "\n",
    "processed_income = {\n",
    "    'Neighborhood': income_neighborhood,\n",
    "    'Total Population': income_total_pop,\n",
    "    'Median Household Income': income_medium_hh\n",
    "}\n",
    "\n",
    "processed_income_df = pd.DataFrame(data=processed_income)"
   ]
  },
  {
   "cell_type": "code",
   "execution_count": 4,
   "metadata": {
    "ExecuteTime": {
     "end_time": "2018-05-11T03:15:54.156054Z",
     "start_time": "2018-05-11T03:15:54.136896Z"
    }
   },
   "outputs": [
    {
     "data": {
      "text/html": [
       "<div>\n",
       "<style scoped>\n",
       "    .dataframe tbody tr th:only-of-type {\n",
       "        vertical-align: middle;\n",
       "    }\n",
       "\n",
       "    .dataframe tbody tr th {\n",
       "        vertical-align: top;\n",
       "    }\n",
       "\n",
       "    .dataframe thead th {\n",
       "        text-align: right;\n",
       "    }\n",
       "</style>\n",
       "<table border=\"1\" class=\"dataframe\">\n",
       "  <thead>\n",
       "    <tr style=\"text-align: right;\">\n",
       "      <th></th>\n",
       "      <th>Median Household Income</th>\n",
       "      <th>Neighborhood</th>\n",
       "      <th>Total Population</th>\n",
       "    </tr>\n",
       "  </thead>\n",
       "  <tbody>\n",
       "    <tr>\n",
       "      <th>0</th>\n",
       "      <td>37302.17105</td>\n",
       "      <td>allendale</td>\n",
       "      <td>16217</td>\n",
       "    </tr>\n",
       "    <tr>\n",
       "      <th>1</th>\n",
       "      <td>37302.17105</td>\n",
       "      <td>irvington</td>\n",
       "      <td>16217</td>\n",
       "    </tr>\n",
       "    <tr>\n",
       "      <th>2</th>\n",
       "      <td>37302.17105</td>\n",
       "      <td>s. hilton</td>\n",
       "      <td>16217</td>\n",
       "    </tr>\n",
       "    <tr>\n",
       "      <th>3</th>\n",
       "      <td>53565.07970</td>\n",
       "      <td>beechfield</td>\n",
       "      <td>12264</td>\n",
       "    </tr>\n",
       "    <tr>\n",
       "      <th>4</th>\n",
       "      <td>53565.07970</td>\n",
       "      <td>ten hills</td>\n",
       "      <td>12264</td>\n",
       "    </tr>\n",
       "    <tr>\n",
       "      <th>5</th>\n",
       "      <td>53565.07970</td>\n",
       "      <td>west hills</td>\n",
       "      <td>12264</td>\n",
       "    </tr>\n",
       "    <tr>\n",
       "      <th>6</th>\n",
       "      <td>40482.35965</td>\n",
       "      <td>belair-edison</td>\n",
       "      <td>17416</td>\n",
       "    </tr>\n",
       "    <tr>\n",
       "      <th>7</th>\n",
       "      <td>38603.93023</td>\n",
       "      <td>brooklyn</td>\n",
       "      <td>14243</td>\n",
       "    </tr>\n",
       "    <tr>\n",
       "      <th>8</th>\n",
       "      <td>38603.93023</td>\n",
       "      <td>curtis bay</td>\n",
       "      <td>14243</td>\n",
       "    </tr>\n",
       "    <tr>\n",
       "      <th>9</th>\n",
       "      <td>38603.93023</td>\n",
       "      <td>hawkins point</td>\n",
       "      <td>14243</td>\n",
       "    </tr>\n",
       "  </tbody>\n",
       "</table>\n",
       "</div>"
      ],
      "text/plain": [
       "   Median Household Income   Neighborhood  Total Population\n",
       "0              37302.17105      allendale             16217\n",
       "1              37302.17105      irvington             16217\n",
       "2              37302.17105      s. hilton             16217\n",
       "3              53565.07970     beechfield             12264\n",
       "4              53565.07970      ten hills             12264\n",
       "5              53565.07970     west hills             12264\n",
       "6              40482.35965  belair-edison             17416\n",
       "7              38603.93023       brooklyn             14243\n",
       "8              38603.93023     curtis bay             14243\n",
       "9              38603.93023  hawkins point             14243"
      ]
     },
     "execution_count": 4,
     "metadata": {},
     "output_type": "execute_result"
    }
   ],
   "source": [
    "processed_income_df.head(10)"
   ]
  },
  {
   "cell_type": "code",
   "execution_count": 5,
   "metadata": {
    "ExecuteTime": {
     "end_time": "2018-05-11T03:15:55.588166Z",
     "start_time": "2018-05-11T03:15:55.583690Z"
    },
    "scrolled": true
   },
   "outputs": [],
   "source": [
    "unique_income_neighborhoods = np.unique(processed_income_df[\"Neighborhood\"])"
   ]
  },
  {
   "cell_type": "markdown",
   "metadata": {
    "ExecuteTime": {
     "end_time": "2018-05-07T22:38:47.800656Z",
     "start_time": "2018-05-07T22:38:47.738923Z"
    }
   },
   "source": [
    "# Begin processing Crime Dataframe"
   ]
  },
  {
   "cell_type": "code",
   "execution_count": 6,
   "metadata": {
    "ExecuteTime": {
     "end_time": "2018-05-11T03:15:57.903737Z",
     "start_time": "2018-05-11T03:15:57.146495Z"
    }
   },
   "outputs": [],
   "source": [
    "crime_df = pd.read_csv(\"../datasets/BPD_Part_1_Victim_Based_Crime_Data.csv\")"
   ]
  },
  {
   "cell_type": "code",
   "execution_count": 7,
   "metadata": {
    "ExecuteTime": {
     "end_time": "2018-05-11T03:15:58.489282Z",
     "start_time": "2018-05-11T03:15:58.483926Z"
    }
   },
   "outputs": [
    {
     "name": "stdout",
     "output_type": "stream",
     "text": [
      "2016-01-01 00:00:00\n",
      "2016-12-31 23:59:59\n"
     ]
    }
   ],
   "source": [
    "start = datetime(2016, 1, 1, 0, 0, 0)\n",
    "end = datetime(2016, 12, 31, 23, 59, 59)\n",
    "\n",
    "print(start)\n",
    "print(end)"
   ]
  },
  {
   "cell_type": "code",
   "execution_count": 8,
   "metadata": {
    "ExecuteTime": {
     "end_time": "2018-05-11T03:16:32.940203Z",
     "start_time": "2018-05-11T03:16:00.703810Z"
    },
    "code_folding": [
     36
    ]
   },
   "outputs": [],
   "source": [
    "# Preprocess crime data from BDP Dataset\n",
    "crime_datetime = []\n",
    "crime_datetimeofyear = []\n",
    "crime_descript = []\n",
    "crime_district = []\n",
    "crime_neighbor = []\n",
    "\n",
    "# Iterate through all rows, attempt to get datetime columns parsed and working\n",
    "for index, row in crime_df.iterrows():\n",
    "    datetime_str = \"{} {}\".format(row[\"CrimeDate\"], row[\"CrimeTime\"])\n",
    "    worked_first_parse = False\n",
    "    \n",
    "    try:\n",
    "        datetime_processed = datetime.strptime(datetime_str, '%m/%d/%Y %H:%M:%S')\n",
    "        worked_first_parse = True\n",
    "        \n",
    "    except ValueError as e:\n",
    "        pass\n",
    "\n",
    "    if not worked_first_parse:\n",
    "        try:\n",
    "            datetime_processed = datetime.strptime(datetime_str, '%m/%d/%Y %H%M')\n",
    "        except ValueError as e:\n",
    "            continue\n",
    "\n",
    "    if start <= datetime_processed <= end:\n",
    "        n = row[\"Neighborhood\"]\n",
    "        if isinstance(n, str):\n",
    "            pd_dt = pd.to_datetime(datetime_processed)\n",
    "            crime_datetime.append(pd_dt)\n",
    "            crime_datetimeofyear.append(pd_dt.dayofyear)\n",
    "            crime_descript.append(row[\"Description\"].lower())\n",
    "            crime_district.append(row[\"District\"].lower())\n",
    "            crime_neighbor.append(row[\"Neighborhood\"].lower())\n",
    "        \n",
    "# Append to a new dataframe\n",
    "processed_crime = {\n",
    "    'Datetime': crime_datetime,\n",
    "    'Day of the Year': crime_datetimeofyear,\n",
    "    'Description': crime_descript,\n",
    "    'District': crime_district,\n",
    "    'Neighborhood': crime_neighbor\n",
    "}\n",
    "\n",
    "processed_crime_df = pd.DataFrame(data=processed_crime)\n"
   ]
  },
  {
   "cell_type": "code",
   "execution_count": 9,
   "metadata": {
    "ExecuteTime": {
     "end_time": "2018-05-11T03:16:32.945705Z",
     "start_time": "2018-05-11T03:16:32.942483Z"
    }
   },
   "outputs": [],
   "source": [
    "# wow = crime_df.groupby(['Day of the Year', \"Neighborhood\"]).size().reset_index(name=\"WOW\")\n",
    "# crime_df.to_csv(\"lmao.csv\", encoding=\"utf-8\")\n",
    "# len(processed_crime_df)\n",
    "# processed_crime_df.head(10)"
   ]
  },
  {
   "cell_type": "code",
   "execution_count": 10,
   "metadata": {
    "ExecuteTime": {
     "end_time": "2018-05-11T03:16:37.477356Z",
     "start_time": "2018-05-11T03:16:37.407887Z"
    }
   },
   "outputs": [],
   "source": [
    "unique_crime_neighborhoods = np.unique(processed_crime_df[\"Neighborhood\"])"
   ]
  },
  {
   "cell_type": "markdown",
   "metadata": {},
   "source": [
    "# Begin processing service Dataframe"
   ]
  },
  {
   "cell_type": "code",
   "execution_count": 11,
   "metadata": {
    "ExecuteTime": {
     "end_time": "2018-05-11T03:16:54.893280Z",
     "start_time": "2018-05-11T03:16:40.298459Z"
    }
   },
   "outputs": [
    {
     "name": "stderr",
     "output_type": "stream",
     "text": [
      "/Users/jaime/Downloads/CMSC-491-DS-Group-Project/python_processing/.env/lib/python3.6/site-packages/IPython/core/interactiveshell.py:2785: DtypeWarning: Columns (6) have mixed types. Specify dtype option on import or set low_memory=False.\n",
      "  interactivity=interactivity, compiler=compiler, result=result)\n"
     ]
    }
   ],
   "source": [
    "# sample = 100000\n",
    "# service_df = pd.read_csv(\"../datasets/311_Customer_Service_Requests.csv\", nrows=sample)\n",
    "service_df = pd.read_csv(\"../datasets/311_Customer_Service_Requests.csv\")"
   ]
  },
  {
   "cell_type": "code",
   "execution_count": 12,
   "metadata": {
    "ExecuteTime": {
     "end_time": "2018-05-11T03:17:16.525711Z",
     "start_time": "2018-05-11T03:17:16.505442Z"
    }
   },
   "outputs": [
    {
     "data": {
      "text/html": [
       "<div>\n",
       "<style scoped>\n",
       "    .dataframe tbody tr th:only-of-type {\n",
       "        vertical-align: middle;\n",
       "    }\n",
       "\n",
       "    .dataframe tbody tr th {\n",
       "        vertical-align: top;\n",
       "    }\n",
       "\n",
       "    .dataframe thead th {\n",
       "        text-align: right;\n",
       "    }\n",
       "</style>\n",
       "<table border=\"1\" class=\"dataframe\">\n",
       "  <thead>\n",
       "    <tr style=\"text-align: right;\">\n",
       "      <th></th>\n",
       "      <th>SRRecordID</th>\n",
       "      <th>ServiceRequesNum</th>\n",
       "      <th>SRType</th>\n",
       "      <th>Agency</th>\n",
       "      <th>Neighborhood</th>\n",
       "      <th>StreetAddress</th>\n",
       "      <th>ZipCode</th>\n",
       "      <th>MethodReceived</th>\n",
       "      <th>SRStatus</th>\n",
       "      <th>CreatedDate</th>\n",
       "      <th>StatusDate</th>\n",
       "      <th>DueDate</th>\n",
       "      <th>LastActivity</th>\n",
       "      <th>Outcome</th>\n",
       "      <th>LastActivityDate</th>\n",
       "      <th>GeoLocation</th>\n",
       "    </tr>\n",
       "  </thead>\n",
       "  <tbody>\n",
       "    <tr>\n",
       "      <th>0</th>\n",
       "      <td>1094344940</td>\n",
       "      <td>15-00072082</td>\n",
       "      <td>WW Water Leak (Exterior)</td>\n",
       "      <td>Bureau of Water and Waste Water</td>\n",
       "      <td>CANTON</td>\n",
       "      <td>1013 S CLINTON ST</td>\n",
       "      <td>21224</td>\n",
       "      <td>Interface</td>\n",
       "      <td>CLOSED</td>\n",
       "      <td>02/01/2015 08:12:00 AM +0000</td>\n",
       "      <td>02/01/2015 06:23:00 PM +0000</td>\n",
       "      <td>02/03/2015 08:12:00 AM +0000</td>\n",
       "      <td>Cityworks SR Comments</td>\n",
       "      <td>UPDATED</td>\n",
       "      <td>NaN</td>\n",
       "      <td>NaN</td>\n",
       "    </tr>\n",
       "    <tr>\n",
       "      <th>1</th>\n",
       "      <td>1094344982</td>\n",
       "      <td>15-00072083</td>\n",
       "      <td>BCLB-Liquor License Complaint</td>\n",
       "      <td>Liquor License Board</td>\n",
       "      <td>GREEKTOWN</td>\n",
       "      <td>500 S LEHIGH ST</td>\n",
       "      <td>21224</td>\n",
       "      <td>Interface</td>\n",
       "      <td>CLOSED</td>\n",
       "      <td>02/01/2015 08:48:00 AM +0000</td>\n",
       "      <td>02/18/2015 09:12:00 PM +0000</td>\n",
       "      <td>03/21/2015 07:48:00 AM +0000</td>\n",
       "      <td>Dispatch Investigator</td>\n",
       "      <td>Closed</td>\n",
       "      <td>NaN</td>\n",
       "      <td>NaN</td>\n",
       "    </tr>\n",
       "  </tbody>\n",
       "</table>\n",
       "</div>"
      ],
      "text/plain": [
       "   SRRecordID ServiceRequesNum                         SRType  \\\n",
       "0  1094344940      15-00072082       WW Water Leak (Exterior)   \n",
       "1  1094344982      15-00072083  BCLB-Liquor License Complaint   \n",
       "\n",
       "                            Agency Neighborhood       StreetAddress ZipCode  \\\n",
       "0  Bureau of Water and Waste Water       CANTON  1013 S CLINTON ST    21224   \n",
       "1             Liquor License Board    GREEKTOWN    500 S LEHIGH ST    21224   \n",
       "\n",
       "  MethodReceived SRStatus                   CreatedDate  \\\n",
       "0      Interface   CLOSED  02/01/2015 08:12:00 AM +0000   \n",
       "1      Interface   CLOSED  02/01/2015 08:48:00 AM +0000   \n",
       "\n",
       "                     StatusDate                       DueDate  \\\n",
       "0  02/01/2015 06:23:00 PM +0000  02/03/2015 08:12:00 AM +0000   \n",
       "1  02/18/2015 09:12:00 PM +0000  03/21/2015 07:48:00 AM +0000   \n",
       "\n",
       "            LastActivity  Outcome LastActivityDate GeoLocation  \n",
       "0  Cityworks SR Comments  UPDATED              NaN         NaN  \n",
       "1  Dispatch Investigator   Closed              NaN         NaN  "
      ]
     },
     "execution_count": 12,
     "metadata": {},
     "output_type": "execute_result"
    }
   ],
   "source": [
    "service_df.head(2)"
   ]
  },
  {
   "cell_type": "code",
   "execution_count": 13,
   "metadata": {
    "ExecuteTime": {
     "end_time": "2018-05-11T03:17:17.436755Z",
     "start_time": "2018-05-11T03:17:17.431759Z"
    }
   },
   "outputs": [
    {
     "name": "stdout",
     "output_type": "stream",
     "text": [
      "2016-01-01 00:00:00\n",
      "2016-12-31 23:59:59\n"
     ]
    }
   ],
   "source": [
    "start = datetime(2016, 1, 1, 0, 0, 0)\n",
    "end = datetime(2016, 12, 31, 23, 59, 59)\n",
    "print(start)\n",
    "print(end)"
   ]
  },
  {
   "cell_type": "code",
   "execution_count": 32,
   "metadata": {
    "ExecuteTime": {
     "end_time": "2018-05-11T05:05:25.736002Z",
     "start_time": "2018-05-11T04:58:09.161004Z"
    }
   },
   "outputs": [],
   "source": [
    "service_df[\"CreatedDate\"] = pd.to_datetime(service_df[\"CreatedDate\"])"
   ]
  },
  {
   "cell_type": "code",
   "execution_count": 33,
   "metadata": {
    "ExecuteTime": {
     "end_time": "2018-05-11T05:10:27.255640Z",
     "start_time": "2018-05-11T05:05:25.738514Z"
    }
   },
   "outputs": [],
   "source": [
    "service_df[\"StatusDate\"] = pd.to_datetime(service_df[\"StatusDate\"])"
   ]
  },
  {
   "cell_type": "code",
   "execution_count": 34,
   "metadata": {
    "ExecuteTime": {
     "end_time": "2018-05-11T05:18:58.056818Z",
     "start_time": "2018-05-11T05:14:13.650131Z"
    }
   },
   "outputs": [],
   "source": [
    "service_type = []\n",
    "service_agency = []\n",
    "service_neighborhood = []\n",
    "service_method_received = []\n",
    "service_creation_date = []\n",
    "service_completion_date = []\n",
    "service_diff_time = []\n",
    "\n",
    "for index, row in service_df.iterrows():\n",
    "    sr_status = row[\"SRStatus\"].lower()\n",
    "\n",
    "    if sr_status == \"closed\":\n",
    "        created_date = row[\"CreatedDate\"]\n",
    "        completion_date = row[\"StatusDate\"]\n",
    "        diff_in_seconds = abs((completion_date - created_date).total_seconds())\n",
    "        \n",
    "        if diff_in_seconds == 0:\n",
    "            continue\n",
    "        \n",
    "        service_type.append(row[\"SRType\"])\n",
    "        service_agency.append(row[\"Agency\"])\n",
    "        service_neighborhood.append(row[\"Neighborhood\"].lower())\n",
    "        service_method_received.append(row[\"MethodReceived\"].lower())\n",
    "        service_creation_date.append(created_date)\n",
    "        service_completion_date.append(completion_date)\n",
    "        service_diff_time.append(diff_in_seconds)\n",
    "        \n",
    "processed_service = {\n",
    "    'Service Requested Type': service_type,\n",
    "    'Agency': service_agency,\n",
    "    'Neighborhood': service_neighborhood,\n",
    "    'Method Received': service_method_received,\n",
    "    'Creation Date': service_creation_date,\n",
    "    'Closed Date': service_completion_date,\n",
    "    'Time Delta in secs': service_diff_time\n",
    "}\n",
    "\n",
    "processed_service_df = pd.DataFrame(data=processed_service)"
   ]
  },
  {
   "cell_type": "code",
   "execution_count": 35,
   "metadata": {
    "ExecuteTime": {
     "end_time": "2018-05-11T05:25:11.920320Z",
     "start_time": "2018-05-11T05:25:11.900194Z"
    }
   },
   "outputs": [
    {
     "name": "stdout",
     "output_type": "stream",
     "text": [
      "1492553\n"
     ]
    },
    {
     "data": {
      "text/html": [
       "<div>\n",
       "<style scoped>\n",
       "    .dataframe tbody tr th:only-of-type {\n",
       "        vertical-align: middle;\n",
       "    }\n",
       "\n",
       "    .dataframe tbody tr th {\n",
       "        vertical-align: top;\n",
       "    }\n",
       "\n",
       "    .dataframe thead th {\n",
       "        text-align: right;\n",
       "    }\n",
       "</style>\n",
       "<table border=\"1\" class=\"dataframe\">\n",
       "  <thead>\n",
       "    <tr style=\"text-align: right;\">\n",
       "      <th></th>\n",
       "      <th>Agency</th>\n",
       "      <th>Closed Date</th>\n",
       "      <th>Creation Date</th>\n",
       "      <th>Method Received</th>\n",
       "      <th>Neighborhood</th>\n",
       "      <th>Service Requested Type</th>\n",
       "      <th>Time Delta in secs</th>\n",
       "    </tr>\n",
       "  </thead>\n",
       "  <tbody>\n",
       "    <tr>\n",
       "      <th>0</th>\n",
       "      <td>Bureau of Water and Waste Water</td>\n",
       "      <td>2015-02-01 18:23:00</td>\n",
       "      <td>2015-02-01 08:12:00</td>\n",
       "      <td>interface</td>\n",
       "      <td>canton</td>\n",
       "      <td>WW Water Leak (Exterior)</td>\n",
       "      <td>36660.0</td>\n",
       "    </tr>\n",
       "    <tr>\n",
       "      <th>1</th>\n",
       "      <td>Liquor License Board</td>\n",
       "      <td>2015-02-18 21:12:00</td>\n",
       "      <td>2015-02-01 08:48:00</td>\n",
       "      <td>interface</td>\n",
       "      <td>greektown</td>\n",
       "      <td>BCLB-Liquor License Complaint</td>\n",
       "      <td>1513440.0</td>\n",
       "    </tr>\n",
       "  </tbody>\n",
       "</table>\n",
       "</div>"
      ],
      "text/plain": [
       "                            Agency         Closed Date       Creation Date  \\\n",
       "0  Bureau of Water and Waste Water 2015-02-01 18:23:00 2015-02-01 08:12:00   \n",
       "1             Liquor License Board 2015-02-18 21:12:00 2015-02-01 08:48:00   \n",
       "\n",
       "  Method Received Neighborhood         Service Requested Type  \\\n",
       "0       interface       canton       WW Water Leak (Exterior)   \n",
       "1       interface    greektown  BCLB-Liquor License Complaint   \n",
       "\n",
       "   Time Delta in secs  \n",
       "0             36660.0  \n",
       "1           1513440.0  "
      ]
     },
     "execution_count": 35,
     "metadata": {},
     "output_type": "execute_result"
    }
   ],
   "source": [
    "print(len(processed_service_df))\n",
    "processed_service_df.head(2)"
   ]
  },
  {
   "cell_type": "code",
   "execution_count": 36,
   "metadata": {
    "ExecuteTime": {
     "end_time": "2018-05-11T05:25:30.392900Z",
     "start_time": "2018-05-11T05:25:27.598641Z"
    }
   },
   "outputs": [],
   "source": [
    "unique_service_neighborhoods = np.unique(processed_service_df[\"Neighborhood\"])\n"
   ]
  },
  {
   "cell_type": "markdown",
   "metadata": {},
   "source": [
    "# Begin intersecting data and only using districts that have been defined uniformly"
   ]
  },
  {
   "cell_type": "code",
   "execution_count": 37,
   "metadata": {
    "ExecuteTime": {
     "end_time": "2018-05-11T05:25:31.683798Z",
     "start_time": "2018-05-11T05:25:31.677130Z"
    }
   },
   "outputs": [
    {
     "name": "stdout",
     "output_type": "stream",
     "text": [
      "['allendale' 'arlington' 'ashburton' 'barclay' 'beechfield'\n",
      " 'belair-edison' 'brooklyn' 'canton' 'cedonia' 'cherry hill' 'cheswolde'\n",
      " 'coldspring' 'curtis bay' 'dickeyville' 'dorchester' 'downtown'\n",
      " 'druid heights' 'edmondson village' 'federal hill' 'fells point'\n",
      " 'forest park' 'frankford' 'franklintown' 'guilford' 'hampden'\n",
      " 'harlem park' 'hawkins point' 'highlandtown' 'hollins market' 'homeland'\n",
      " 'howard park' 'inner harbor' 'irvington' 'lakeland' 'lauraville'\n",
      " 'little italy' 'loch raven' 'medfield' 'middle east' 'morrell park'\n",
      " 'mount washington' 'mount winans' 'oldtown' 'orangeville' 'penn north'\n",
      " 'poppleton' 'remington' 'reservoir hill' 'sandtown-winchester'\n",
      " 'seton hill' 'ten hills' 'upton' 'violetville' 'walbrook'\n",
      " 'west arlington' 'west hills' 'westport' 'woodberry']\n",
      "58\n"
     ]
    }
   ],
   "source": [
    "unique_neighborhoods_inter = reduce(np.intersect1d, (unique_income_neighborhoods,\n",
    "                                    unique_service_neighborhoods, unique_crime_neighborhoods))\n",
    "\n",
    "print(unique_neighborhoods_inter)\n",
    "print(len(unique_neighborhoods_inter))\n"
   ]
  },
  {
   "cell_type": "code",
   "execution_count": 38,
   "metadata": {
    "ExecuteTime": {
     "end_time": "2018-05-11T05:25:34.070181Z",
     "start_time": "2018-05-11T05:25:34.058799Z"
    }
   },
   "outputs": [
    {
     "data": {
      "text/html": [
       "<div>\n",
       "<style scoped>\n",
       "    .dataframe tbody tr th:only-of-type {\n",
       "        vertical-align: middle;\n",
       "    }\n",
       "\n",
       "    .dataframe tbody tr th {\n",
       "        vertical-align: top;\n",
       "    }\n",
       "\n",
       "    .dataframe thead th {\n",
       "        text-align: right;\n",
       "    }\n",
       "</style>\n",
       "<table border=\"1\" class=\"dataframe\">\n",
       "  <thead>\n",
       "    <tr style=\"text-align: right;\">\n",
       "      <th></th>\n",
       "      <th>Median Household Income</th>\n",
       "      <th>Neighborhood</th>\n",
       "      <th>Total Population</th>\n",
       "    </tr>\n",
       "  </thead>\n",
       "  <tbody>\n",
       "    <tr>\n",
       "      <th>0</th>\n",
       "      <td>37302.17105</td>\n",
       "      <td>allendale</td>\n",
       "      <td>16217</td>\n",
       "    </tr>\n",
       "    <tr>\n",
       "      <th>1</th>\n",
       "      <td>37302.17105</td>\n",
       "      <td>irvington</td>\n",
       "      <td>16217</td>\n",
       "    </tr>\n",
       "    <tr>\n",
       "      <th>3</th>\n",
       "      <td>53565.07970</td>\n",
       "      <td>beechfield</td>\n",
       "      <td>12264</td>\n",
       "    </tr>\n",
       "    <tr>\n",
       "      <th>4</th>\n",
       "      <td>53565.07970</td>\n",
       "      <td>ten hills</td>\n",
       "      <td>12264</td>\n",
       "    </tr>\n",
       "    <tr>\n",
       "      <th>5</th>\n",
       "      <td>53565.07970</td>\n",
       "      <td>west hills</td>\n",
       "      <td>12264</td>\n",
       "    </tr>\n",
       "  </tbody>\n",
       "</table>\n",
       "</div>"
      ],
      "text/plain": [
       "   Median Household Income Neighborhood  Total Population\n",
       "0              37302.17105    allendale             16217\n",
       "1              37302.17105    irvington             16217\n",
       "3              53565.07970   beechfield             12264\n",
       "4              53565.07970    ten hills             12264\n",
       "5              53565.07970   west hills             12264"
      ]
     },
     "execution_count": 38,
     "metadata": {},
     "output_type": "execute_result"
    }
   ],
   "source": [
    "neighbor_filter_income_df = processed_income_df[processed_income_df[\"Neighborhood\"].isin(unique_neighborhoods_inter)]\n",
    "neighbor_filter_income_df.head(5)\n"
   ]
  },
  {
   "cell_type": "code",
   "execution_count": 41,
   "metadata": {
    "ExecuteTime": {
     "end_time": "2018-05-11T05:25:59.383954Z",
     "start_time": "2018-05-11T05:25:59.373525Z"
    }
   },
   "outputs": [
    {
     "name": "stdout",
     "output_type": "stream",
     "text": [
      "17828\n"
     ]
    }
   ],
   "source": [
    "neighbor_filter_crime_df = processed_crime_df[processed_crime_df[\"Neighborhood\"].isin(unique_neighborhoods_inter)]\n",
    "neighbor_filter_crime_df.head(5)\n",
    "\n"
   ]
  },
  {
   "cell_type": "code",
   "execution_count": 40,
   "metadata": {
    "ExecuteTime": {
     "end_time": "2018-05-11T05:25:39.950325Z",
     "start_time": "2018-05-11T05:25:39.664629Z"
    }
   },
   "outputs": [
    {
     "data": {
      "text/html": [
       "<div>\n",
       "<style scoped>\n",
       "    .dataframe tbody tr th:only-of-type {\n",
       "        vertical-align: middle;\n",
       "    }\n",
       "\n",
       "    .dataframe tbody tr th {\n",
       "        vertical-align: top;\n",
       "    }\n",
       "\n",
       "    .dataframe thead th {\n",
       "        text-align: right;\n",
       "    }\n",
       "</style>\n",
       "<table border=\"1\" class=\"dataframe\">\n",
       "  <thead>\n",
       "    <tr style=\"text-align: right;\">\n",
       "      <th></th>\n",
       "      <th>Agency</th>\n",
       "      <th>Closed Date</th>\n",
       "      <th>Creation Date</th>\n",
       "      <th>Method Received</th>\n",
       "      <th>Neighborhood</th>\n",
       "      <th>Service Requested Type</th>\n",
       "      <th>Time Delta in secs</th>\n",
       "    </tr>\n",
       "  </thead>\n",
       "  <tbody>\n",
       "    <tr>\n",
       "      <th>0</th>\n",
       "      <td>Bureau of Water and Waste Water</td>\n",
       "      <td>2015-02-01 18:23:00</td>\n",
       "      <td>2015-02-01 08:12:00</td>\n",
       "      <td>interface</td>\n",
       "      <td>canton</td>\n",
       "      <td>WW Water Leak (Exterior)</td>\n",
       "      <td>36660.0</td>\n",
       "    </tr>\n",
       "    <tr>\n",
       "      <th>2</th>\n",
       "      <td>Department of Transportation</td>\n",
       "      <td>2015-02-04 22:41:00</td>\n",
       "      <td>2015-02-01 09:24:00</td>\n",
       "      <td>phone</td>\n",
       "      <td>medfield</td>\n",
       "      <td>TRM-Snow/Icy Conditions</td>\n",
       "      <td>307020.0</td>\n",
       "    </tr>\n",
       "    <tr>\n",
       "      <th>6</th>\n",
       "      <td>Mayors Office of Information Technology</td>\n",
       "      <td>2015-02-01 17:31:00</td>\n",
       "      <td>2015-02-01 11:50:00</td>\n",
       "      <td>interface</td>\n",
       "      <td>hollins market</td>\n",
       "      <td>ECC-Miscellaneous Request</td>\n",
       "      <td>20460.0</td>\n",
       "    </tr>\n",
       "    <tr>\n",
       "      <th>7</th>\n",
       "      <td>Department of Transportation</td>\n",
       "      <td>2015-02-02 07:39:00</td>\n",
       "      <td>2015-02-01 12:07:00</td>\n",
       "      <td>interface</td>\n",
       "      <td>belair-edison</td>\n",
       "      <td>BGE-StLight(s) Out Rear</td>\n",
       "      <td>70320.0</td>\n",
       "    </tr>\n",
       "    <tr>\n",
       "      <th>10</th>\n",
       "      <td>Department of Transportation</td>\n",
       "      <td>2016-10-21 16:05:52</td>\n",
       "      <td>2016-10-21 09:31:09</td>\n",
       "      <td>phone</td>\n",
       "      <td>downtown</td>\n",
       "      <td>TRM-Illegal Sign Removal</td>\n",
       "      <td>23683.0</td>\n",
       "    </tr>\n",
       "  </tbody>\n",
       "</table>\n",
       "</div>"
      ],
      "text/plain": [
       "                                     Agency         Closed Date  \\\n",
       "0           Bureau of Water and Waste Water 2015-02-01 18:23:00   \n",
       "2              Department of Transportation 2015-02-04 22:41:00   \n",
       "6   Mayors Office of Information Technology 2015-02-01 17:31:00   \n",
       "7              Department of Transportation 2015-02-02 07:39:00   \n",
       "10             Department of Transportation 2016-10-21 16:05:52   \n",
       "\n",
       "         Creation Date Method Received    Neighborhood  \\\n",
       "0  2015-02-01 08:12:00       interface          canton   \n",
       "2  2015-02-01 09:24:00           phone        medfield   \n",
       "6  2015-02-01 11:50:00       interface  hollins market   \n",
       "7  2015-02-01 12:07:00       interface   belair-edison   \n",
       "10 2016-10-21 09:31:09           phone        downtown   \n",
       "\n",
       "       Service Requested Type  Time Delta in secs  \n",
       "0    WW Water Leak (Exterior)             36660.0  \n",
       "2     TRM-Snow/Icy Conditions            307020.0  \n",
       "6   ECC-Miscellaneous Request             20460.0  \n",
       "7     BGE-StLight(s) Out Rear             70320.0  \n",
       "10   TRM-Illegal Sign Removal             23683.0  "
      ]
     },
     "execution_count": 40,
     "metadata": {},
     "output_type": "execute_result"
    }
   ],
   "source": [
    "neighbor_filter_service_df = processed_service_df[processed_service_df[\"Neighborhood\"].isin(unique_neighborhoods_inter)]\n",
    "neighbor_filter_service_df.head(5)"
   ]
  },
  {
   "cell_type": "code",
   "execution_count": 42,
   "metadata": {
    "ExecuteTime": {
     "end_time": "2018-05-11T05:26:19.938869Z",
     "start_time": "2018-05-11T05:26:19.936157Z"
    }
   },
   "outputs": [],
   "source": [
    "PROCESSED_DATA_DIR = \"../datasets/processed_data\""
   ]
  },
  {
   "cell_type": "code",
   "execution_count": 43,
   "metadata": {
    "ExecuteTime": {
     "end_time": "2018-05-11T05:26:22.627900Z",
     "start_time": "2018-05-11T05:26:22.620071Z"
    }
   },
   "outputs": [],
   "source": [
    "filename = \"income.csv\"\n",
    "file_path = os.path.join(PROCESSED_DATA_DIR, filename)\n",
    "\n",
    "neighbor_filter_income_df.to_csv(file_path,encoding=\"utf-8\")"
   ]
  },
  {
   "cell_type": "code",
   "execution_count": 44,
   "metadata": {
    "ExecuteTime": {
     "end_time": "2018-05-11T05:26:23.611979Z",
     "start_time": "2018-05-11T05:26:23.508696Z"
    }
   },
   "outputs": [],
   "source": [
    "filename = \"crime.csv\"\n",
    "file_path = os.path.join(PROCESSED_DATA_DIR, filename)\n",
    "\n",
    "neighbor_filter_crime_df.to_csv(file_path,encoding=\"utf-8\")"
   ]
  },
  {
   "cell_type": "code",
   "execution_count": 45,
   "metadata": {
    "ExecuteTime": {
     "end_time": "2018-05-11T05:26:28.472666Z",
     "start_time": "2018-05-11T05:26:24.667816Z"
    }
   },
   "outputs": [],
   "source": [
    "filename = \"service.csv\"\n",
    "file_path = os.path.join(PROCESSED_DATA_DIR, filename)\n",
    "\n",
    "neighbor_filter_service_df.to_csv(file_path,encoding=\"utf-8\")"
   ]
  },
  {
   "cell_type": "code",
   "execution_count": 52,
   "metadata": {
    "ExecuteTime": {
     "end_time": "2018-05-10T04:21:09.418292Z",
     "start_time": "2018-05-10T04:21:06.330518Z"
    }
   },
   "outputs": [],
   "source": []
  },
  {
   "cell_type": "code",
   "execution_count": null,
   "metadata": {},
   "outputs": [],
   "source": []
  }
 ],
 "metadata": {
  "kernelspec": {
   "display_name": "Python 3",
   "language": "python",
   "name": "python3"
  },
  "language_info": {
   "codemirror_mode": {
    "name": "ipython",
    "version": 3
   },
   "file_extension": ".py",
   "mimetype": "text/x-python",
   "name": "python",
   "nbconvert_exporter": "python",
   "pygments_lexer": "ipython3",
   "version": "3.6.5"
  }
 },
 "nbformat": 4,
 "nbformat_minor": 2
}
