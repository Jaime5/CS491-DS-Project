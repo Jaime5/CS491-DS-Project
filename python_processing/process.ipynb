{
 "cells": [
  {
   "cell_type": "code",
   "execution_count": 4,
   "metadata": {
    "ExecuteTime": {
     "end_time": "2018-05-07T22:28:37.696467Z",
     "start_time": "2018-05-07T22:28:37.044381Z"
    }
   },
   "outputs": [],
   "source": [
    "from datetime import datetime, date\n",
    "\n",
    "import pandas as pd\n",
    "import numpy as np\n"
   ]
  },
  {
   "cell_type": "code",
   "execution_count": 14,
   "metadata": {
    "ExecuteTime": {
     "end_time": "2018-05-07T22:37:53.005155Z",
     "start_time": "2018-05-07T22:37:41.525554Z"
    }
   },
   "outputs": [
    {
     "name": "stderr",
     "output_type": "stream",
     "text": [
      "/anaconda2/lib/python2.7/site-packages/IPython/core/interactiveshell.py:2718: DtypeWarning: Columns (6) have mixed types. Specify dtype option on import or set low_memory=False.\n",
      "  interactivity=interactivity, compiler=compiler, result=result)\n"
     ]
    }
   ],
   "source": [
    "# Load dataframes\n",
    "\n",
    "crime_df = pd.read_csv(\"./datasets/BPD_Part_1_Victim_Based_Crime_Data.csv\")\n",
    "income_df = pd.read_csv(\"./datasets/Vital_Signs_16_Census_Demographics.csv\")\n",
    "service_df = pd.read_csv(\"./datasets/311_Customer_Service_Requests.csv\")"
   ]
  },
  {
   "cell_type": "markdown",
   "metadata": {
    "ExecuteTime": {
     "end_time": "2018-05-07T22:38:47.800656Z",
     "start_time": "2018-05-07T22:38:47.738923Z"
    },
    "heading_collapsed": true
   },
   "source": [
    "# Begin processing Crime Dataframe"
   ]
  },
  {
   "cell_type": "code",
   "execution_count": 16,
   "metadata": {
    "ExecuteTime": {
     "end_time": "2018-05-07T22:39:44.116265Z",
     "start_time": "2018-05-07T22:39:44.106885Z"
    },
    "hidden": true
   },
   "outputs": [
    {
     "name": "stdout",
     "output_type": "stream",
     "text": [
      "2014-01-01 00:00:00\n",
      "2016-12-31 23:59:59\n"
     ]
    }
   ],
   "source": [
    "start = datetime(2014, 1, 1, 0, 0, 0)\n",
    "end = datetime(2016, 12, 31, 23, 59, 59)\n",
    "\n",
    "print(start)\n",
    "print(end)"
   ]
  },
  {
   "cell_type": "code",
   "execution_count": 17,
   "metadata": {
    "ExecuteTime": {
     "end_time": "2018-05-07T22:40:25.483272Z",
     "start_time": "2018-05-07T22:40:01.116519Z"
    },
    "hidden": true
   },
   "outputs": [],
   "source": [
    "# Preprocess crime data from BDP Dataset\n",
    "crime_datetime = []\n",
    "crime_descript = []\n",
    "crime_district = []\n",
    "crime_neighbor = []\n",
    "crime_datetimeofyear = []\n",
    "\n",
    "# Iterate through all rows, attempt to get datetime columns parsed and working\n",
    "for index, row in df.iterrows():\n",
    "    datetime_str = \"{} {}\".format(row[\"CrimeDate\"], row[\"CrimeTime\"])\n",
    "\n",
    "    worked_first_parse = False\n",
    "    \n",
    "    try:\n",
    "        datetime_processed = datetime.strptime(datetime_str, '%m/%d/%Y %H:%M:%S')\n",
    "        worked_first_parse = True\n",
    "        \n",
    "    except ValueError as e:\n",
    "        pass\n",
    "\n",
    "    if not worked_first_parse:\n",
    "        try:\n",
    "            datetime_processed = datetime.strptime(datetime_str, '%m/%d/%Y %H%M')\n",
    "        except ValueError as e:\n",
    "            continue\n",
    "\n",
    "    if start <= datetime_processed <= end:\n",
    "        pd_dt = pd.to_datetime(datetime_processed)\n",
    "\n",
    "        crime_datetime.append(pd_dt)\n",
    "        crime_datetimeofyear.append(pd_dt.dayofyear)\n",
    "        crime_descript.append(row[\"Description\"])\n",
    "        crime_district.append(row[\"District\"])\n",
    "        crime_neighbor.append(row[\"Neighborhood\"])\n",
    "\n",
    "    if datetime_processed < start:\n",
    "        break\n",
    "\n",
    "# Append to a new dataframe\n",
    "crime = {\n",
    "    'Datetime': crime_datetime,\n",
    "    'Day of the Year': crime_datetimeofyear,\n",
    "    'Description': crime_descript,\n",
    "    'District': crime_district,\n",
    "    'Neighborhood': crime_neighbor\n",
    "}\n",
    "\n",
    "processed_crime_df = pd.DataFrame(data=crime)\n"
   ]
  },
  {
   "cell_type": "code",
   "execution_count": 11,
   "metadata": {
    "ExecuteTime": {
     "end_time": "2018-05-07T22:29:45.132685Z",
     "start_time": "2018-05-07T22:29:45.089156Z"
    },
    "hidden": true
   },
   "outputs": [
    {
     "name": "stdout",
     "output_type": "stream",
     "text": [
      "       Day of the Year               Neighborhood  WOW\n",
      "0                    1                  Allendale    1\n",
      "1                    1                    Barclay    1\n",
      "2                    1                    Bayview    2\n",
      "3                    1              Belair-Edison    4\n",
      "4                    1             Better Waverly    1\n",
      "5                    1              Beverly Hills    1\n",
      "6                    1                 Boyd-Booth    1\n",
      "7                    1       Bridgeview/Greenlawn    1\n",
      "8                    1                   Brooklyn    4\n",
      "9                    1             Butcher's Hill    1\n",
      "10                   1                       CARE    2\n",
      "11                   1                     Canton    1\n",
      "12                   1     Canton Industrial Area    1\n",
      "13                   1  Carroll - Camden Industri    3\n",
      "14                   1                    Cedmont    2\n",
      "15                   1       Central Park Heights    2\n",
      "16                   1              Charles North    2\n",
      "17                   1                Cherry Hill    6\n",
      "18                   1  Coldstream Homestead Mont    2\n",
      "19                   1                 Curtis Bay    2\n",
      "20                   1                    Cylburn    1\n",
      "21                   1                   Dolfield    1\n",
      "22                   1                   Downtown    6\n",
      "23                   1            Dunbar-Broadway    1\n",
      "24                   1          Edmondson Village    1\n",
      "25                   1      Ellwood Park/Monument    1\n",
      "26                   1               Evesham Park    1\n",
      "27                   1                  Fallstaff    1\n",
      "28                   1               Federal Hill    2\n",
      "29                   1                Fells Point    7\n",
      "...                ...                        ...  ...\n",
      "35322              366  Northwest Community Actio    1\n",
      "35323              366                Old Goucher    4\n",
      "35324              366                    Oldtown    1\n",
      "35325              366                     Oliver    1\n",
      "35326              366                Park Circle    1\n",
      "35327              366         Parkview/Woodbrook    2\n",
      "35328              366  Patterson Park Neighborho    3\n",
      "35329              366                 Penn North    1\n",
      "35330              366     Pimlico Good Neighbors    1\n",
      "35331              366    Pulaski Industrial Area    3\n",
      "35332              366                 Ramblewood    1\n",
      "35333              366       Reisterstown Station    2\n",
      "35334              366             Rognel Heights    1\n",
      "35335              366                   Rosemont    1\n",
      "35336              366  Rosemont Homeowners/Tenan    1\n",
      "35337              366              Saint Josephs    3\n",
      "35338              366        Seton Business Park    1\n",
      "35339              366                 Seton Hill    1\n",
      "35340              366            South Baltimore    2\n",
      "35341              366                    Tremont    1\n",
      "35342              366                    Uplands    1\n",
      "35343              366            Washington Hill    1\n",
      "35344              366  Washington Village/Pigtow    2\n",
      "35345              366                    Waverly    1\n",
      "35346              366             West Arlington    1\n",
      "35347              366           West Forest Park    1\n",
      "35348              366                   Westport    1\n",
      "35349              366                 Winchester    1\n",
      "35350              366         Woodbourne Heights    1\n",
      "35351              366                   Woodmere    1\n",
      "\n",
      "[35352 rows x 3 columns]\n"
     ]
    }
   ],
   "source": [
    "# wow = crime_df.groupby(['Day of the Year', \"Neighborhood\"]).size().reset_index(name=\"WOW\")\n",
    "\n",
    "# print(wow)\n",
    "# crime_df.to_csv(\"lmao.csv\", encoding=\"utf-8\")"
   ]
  },
  {
   "cell_type": "markdown",
   "metadata": {},
   "source": [
    "# Begin processing Income Dataframe"
   ]
  },
  {
   "cell_type": "code",
   "execution_count": 18,
   "metadata": {
    "ExecuteTime": {
     "end_time": "2018-05-07T22:41:44.596313Z",
     "start_time": "2018-05-07T22:41:44.554050Z"
    }
   },
   "outputs": [
    {
     "data": {
      "text/html": [
       "<div>\n",
       "<style scoped>\n",
       "    .dataframe tbody tr th:only-of-type {\n",
       "        vertical-align: middle;\n",
       "    }\n",
       "\n",
       "    .dataframe tbody tr th {\n",
       "        vertical-align: top;\n",
       "    }\n",
       "\n",
       "    .dataframe thead th {\n",
       "        text-align: right;\n",
       "    }\n",
       "</style>\n",
       "<table border=\"1\" class=\"dataframe\">\n",
       "  <thead>\n",
       "    <tr style=\"text-align: right;\">\n",
       "      <th></th>\n",
       "      <th>OBJECTID</th>\n",
       "      <th>CSA2010</th>\n",
       "      <th>tpop10</th>\n",
       "      <th>male10</th>\n",
       "      <th>female10</th>\n",
       "      <th>paa16</th>\n",
       "      <th>pwhite16</th>\n",
       "      <th>pasi16</th>\n",
       "      <th>p2more16</th>\n",
       "      <th>ppac16</th>\n",
       "      <th>...</th>\n",
       "      <th>mhhi16</th>\n",
       "      <th>hh25inc16</th>\n",
       "      <th>hh40inc16</th>\n",
       "      <th>hh60inc16</th>\n",
       "      <th>hh75inc16</th>\n",
       "      <th>hhm7516</th>\n",
       "      <th>hhpov16</th>\n",
       "      <th>hhchpov16</th>\n",
       "      <th>Shape__Area</th>\n",
       "      <th>Shape__Length</th>\n",
       "    </tr>\n",
       "  </thead>\n",
       "  <tbody>\n",
       "    <tr>\n",
       "      <th>0</th>\n",
       "      <td>1</td>\n",
       "      <td>Allendale/Irvington/S. Hilton</td>\n",
       "      <td>16217</td>\n",
       "      <td>7246</td>\n",
       "      <td>8971</td>\n",
       "      <td>87.409876</td>\n",
       "      <td>8.651924</td>\n",
       "      <td>0.242351</td>\n",
       "      <td>2.096334</td>\n",
       "      <td>0.000000</td>\n",
       "      <td>...</td>\n",
       "      <td>37302.17105</td>\n",
       "      <td>34.895493</td>\n",
       "      <td>19.790986</td>\n",
       "      <td>17.929458</td>\n",
       "      <td>13.177662</td>\n",
       "      <td>14.206401</td>\n",
       "      <td>21.282648</td>\n",
       "      <td>34.727823</td>\n",
       "      <td>0.000619</td>\n",
       "      <td>0.123711</td>\n",
       "    </tr>\n",
       "    <tr>\n",
       "      <th>1</th>\n",
       "      <td>2</td>\n",
       "      <td>Beechfield/Ten Hills/West Hills</td>\n",
       "      <td>12264</td>\n",
       "      <td>5566</td>\n",
       "      <td>6698</td>\n",
       "      <td>78.662984</td>\n",
       "      <td>15.657531</td>\n",
       "      <td>0.431981</td>\n",
       "      <td>3.059273</td>\n",
       "      <td>0.566532</td>\n",
       "      <td>...</td>\n",
       "      <td>53565.07970</td>\n",
       "      <td>19.178842</td>\n",
       "      <td>16.145737</td>\n",
       "      <td>21.768078</td>\n",
       "      <td>10.430923</td>\n",
       "      <td>32.476419</td>\n",
       "      <td>11.589846</td>\n",
       "      <td>21.220847</td>\n",
       "      <td>0.000464</td>\n",
       "      <td>0.115561</td>\n",
       "    </tr>\n",
       "    <tr>\n",
       "      <th>2</th>\n",
       "      <td>3</td>\n",
       "      <td>Belair-Edison</td>\n",
       "      <td>17416</td>\n",
       "      <td>7891</td>\n",
       "      <td>9525</td>\n",
       "      <td>85.323947</td>\n",
       "      <td>9.891421</td>\n",
       "      <td>0.536929</td>\n",
       "      <td>2.201408</td>\n",
       "      <td>0.686076</td>\n",
       "      <td>...</td>\n",
       "      <td>40482.35965</td>\n",
       "      <td>34.003378</td>\n",
       "      <td>15.625000</td>\n",
       "      <td>20.675676</td>\n",
       "      <td>6.689189</td>\n",
       "      <td>23.006757</td>\n",
       "      <td>19.592153</td>\n",
       "      <td>36.126984</td>\n",
       "      <td>0.000436</td>\n",
       "      <td>0.102119</td>\n",
       "    </tr>\n",
       "    <tr>\n",
       "      <th>3</th>\n",
       "      <td>4</td>\n",
       "      <td>Brooklyn/Curtis Bay/Hawkins Point</td>\n",
       "      <td>14243</td>\n",
       "      <td>6981</td>\n",
       "      <td>7262</td>\n",
       "      <td>40.647586</td>\n",
       "      <td>40.690951</td>\n",
       "      <td>1.178086</td>\n",
       "      <td>3.476438</td>\n",
       "      <td>1.098583</td>\n",
       "      <td>...</td>\n",
       "      <td>38603.93023</td>\n",
       "      <td>33.125520</td>\n",
       "      <td>18.370740</td>\n",
       "      <td>21.799667</td>\n",
       "      <td>8.686617</td>\n",
       "      <td>18.017456</td>\n",
       "      <td>26.333747</td>\n",
       "      <td>46.447508</td>\n",
       "      <td>0.001706</td>\n",
       "      <td>0.478724</td>\n",
       "    </tr>\n",
       "    <tr>\n",
       "      <th>4</th>\n",
       "      <td>5</td>\n",
       "      <td>Canton</td>\n",
       "      <td>8100</td>\n",
       "      <td>4011</td>\n",
       "      <td>4089</td>\n",
       "      <td>3.409924</td>\n",
       "      <td>86.494745</td>\n",
       "      <td>3.996578</td>\n",
       "      <td>2.517722</td>\n",
       "      <td>0.415546</td>\n",
       "      <td>...</td>\n",
       "      <td>103281.83220</td>\n",
       "      <td>8.800798</td>\n",
       "      <td>7.479432</td>\n",
       "      <td>9.922713</td>\n",
       "      <td>7.703815</td>\n",
       "      <td>66.093244</td>\n",
       "      <td>2.260274</td>\n",
       "      <td>2.994012</td>\n",
       "      <td>0.000149</td>\n",
       "      <td>0.072595</td>\n",
       "    </tr>\n",
       "  </tbody>\n",
       "</table>\n",
       "<p>5 rows × 31 columns</p>\n",
       "</div>"
      ],
      "text/plain": [
       "   OBJECTID                            CSA2010  tpop10  male10  female10  \\\n",
       "0         1      Allendale/Irvington/S. Hilton   16217    7246      8971   \n",
       "1         2    Beechfield/Ten Hills/West Hills   12264    5566      6698   \n",
       "2         3                      Belair-Edison   17416    7891      9525   \n",
       "3         4  Brooklyn/Curtis Bay/Hawkins Point   14243    6981      7262   \n",
       "4         5                             Canton    8100    4011      4089   \n",
       "\n",
       "       paa16   pwhite16    pasi16  p2more16    ppac16      ...        \\\n",
       "0  87.409876   8.651924  0.242351  2.096334  0.000000      ...         \n",
       "1  78.662984  15.657531  0.431981  3.059273  0.566532      ...         \n",
       "2  85.323947   9.891421  0.536929  2.201408  0.686076      ...         \n",
       "3  40.647586  40.690951  1.178086  3.476438  1.098583      ...         \n",
       "4   3.409924  86.494745  3.996578  2.517722  0.415546      ...         \n",
       "\n",
       "         mhhi16  hh25inc16  hh40inc16  hh60inc16  hh75inc16    hhm7516  \\\n",
       "0   37302.17105  34.895493  19.790986  17.929458  13.177662  14.206401   \n",
       "1   53565.07970  19.178842  16.145737  21.768078  10.430923  32.476419   \n",
       "2   40482.35965  34.003378  15.625000  20.675676   6.689189  23.006757   \n",
       "3   38603.93023  33.125520  18.370740  21.799667   8.686617  18.017456   \n",
       "4  103281.83220   8.800798   7.479432   9.922713   7.703815  66.093244   \n",
       "\n",
       "     hhpov16  hhchpov16  Shape__Area  Shape__Length  \n",
       "0  21.282648  34.727823     0.000619       0.123711  \n",
       "1  11.589846  21.220847     0.000464       0.115561  \n",
       "2  19.592153  36.126984     0.000436       0.102119  \n",
       "3  26.333747  46.447508     0.001706       0.478724  \n",
       "4   2.260274   2.994012     0.000149       0.072595  \n",
       "\n",
       "[5 rows x 31 columns]"
      ]
     },
     "execution_count": 18,
     "metadata": {},
     "output_type": "execute_result"
    }
   ],
   "source": [
    "income_df.head(5)"
   ]
  },
  {
   "cell_type": "code",
   "execution_count": null,
   "metadata": {},
   "outputs": [],
   "source": []
  }
 ],
 "metadata": {
  "kernelspec": {
   "display_name": "Python 2",
   "language": "python",
   "name": "python2"
  }
 },
 "nbformat": 4,
 "nbformat_minor": 2
}
