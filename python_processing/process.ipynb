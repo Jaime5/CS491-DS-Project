{
 "cells": [
  {
   "cell_type": "code",
   "execution_count": 35,
   "metadata": {
    "ExecuteTime": {
     "end_time": "2018-05-09T21:50:18.514578Z",
     "start_time": "2018-05-09T21:50:18.511282Z"
    }
   },
   "outputs": [],
   "source": [
    "from datetime import datetime, date\n",
    "\n",
    "import pandas as pd\n",
    "import numpy as np\n",
    "\n",
    "import math\n"
   ]
  },
  {
   "cell_type": "markdown",
   "metadata": {
    "ExecuteTime": {
     "end_time": "2018-05-07T22:38:47.800656Z",
     "start_time": "2018-05-07T22:38:47.738923Z"
    }
   },
   "source": [
    "# Begin processing Crime Dataframe"
   ]
  },
  {
   "cell_type": "code",
   "execution_count": 24,
   "metadata": {
    "ExecuteTime": {
     "end_time": "2018-05-09T21:06:10.217631Z",
     "start_time": "2018-05-09T21:06:09.376939Z"
    }
   },
   "outputs": [],
   "source": [
    "crime_df = pd.read_csv(\"./datasets/BPD_Part_1_Victim_Based_Crime_Data.csv\")"
   ]
  },
  {
   "cell_type": "code",
   "execution_count": 33,
   "metadata": {
    "ExecuteTime": {
     "end_time": "2018-05-09T21:45:34.650656Z",
     "start_time": "2018-05-09T21:45:34.646349Z"
    }
   },
   "outputs": [
    {
     "name": "stdout",
     "output_type": "stream",
     "text": [
      "2016-01-01 00:00:00\n",
      "2016-12-31 23:59:59\n"
     ]
    }
   ],
   "source": [
    "start = datetime(2016, 1, 1, 0, 0, 0)\n",
    "end = datetime(2016, 12, 31, 23, 59, 59)\n",
    "\n",
    "print(start)\n",
    "print(end)"
   ]
  },
  {
   "cell_type": "code",
   "execution_count": 37,
   "metadata": {
    "ExecuteTime": {
     "end_time": "2018-05-09T21:54:43.494048Z",
     "start_time": "2018-05-09T21:54:11.104566Z"
    },
    "code_folding": [
     17
    ]
   },
   "outputs": [],
   "source": [
    "# Preprocess crime data from BDP Dataset\n",
    "crime_datetime = []\n",
    "crime_datetimeofyear = []\n",
    "crime_descript = []\n",
    "crime_district = []\n",
    "crime_neighbor = []\n",
    "\n",
    "# Iterate through all rows, attempt to get datetime columns parsed and working\n",
    "for index, row in crime_df.iterrows():\n",
    "    datetime_str = \"{} {}\".format(row[\"CrimeDate\"], row[\"CrimeTime\"])\n",
    "    worked_first_parse = False\n",
    "    \n",
    "    try:\n",
    "        datetime_processed = datetime.strptime(datetime_str, '%m/%d/%Y %H:%M:%S')\n",
    "        worked_first_parse = True\n",
    "        \n",
    "    except ValueError as e:\n",
    "        pass\n",
    "\n",
    "    if not worked_first_parse:\n",
    "        try:\n",
    "            datetime_processed = datetime.strptime(datetime_str, '%m/%d/%Y %H%M')\n",
    "        except ValueError as e:\n",
    "            continue\n",
    "\n",
    "    if start <= datetime_processed <= end:\n",
    "        n = row[\"Neighborhood\"]\n",
    "        if isinstance(n, str):\n",
    "            pd_dt = pd.to_datetime(datetime_processed)\n",
    "            crime_datetime.append(pd_dt)\n",
    "            crime_datetimeofyear.append(pd_dt.dayofyear)\n",
    "            crime_descript.append(row[\"Description\"])\n",
    "            crime_district.append(row[\"District\"])\n",
    "            crime_neighbor.append(row[\"Neighborhood\"])\n",
    "        \n",
    "# Append to a new dataframe\n",
    "processed_crime = {\n",
    "    'Datetime': crime_datetime,\n",
    "    'Day of the Year': crime_datetimeofyear,\n",
    "    'Description': crime_descript,\n",
    "    'District': crime_district,\n",
    "    'Neighborhood': crime_neighbor\n",
    "}\n",
    "\n",
    "processed_crime_df = pd.DataFrame(data=processed_crime)\n"
   ]
  },
  {
   "cell_type": "code",
   "execution_count": 39,
   "metadata": {
    "ExecuteTime": {
     "end_time": "2018-05-09T21:57:23.117357Z",
     "start_time": "2018-05-09T21:57:23.112375Z"
    }
   },
   "outputs": [
    {
     "data": {
      "text/plain": [
       "48371"
      ]
     },
     "execution_count": 39,
     "metadata": {},
     "output_type": "execute_result"
    }
   ],
   "source": [
    "# wow = crime_df.groupby(['Day of the Year', \"Neighborhood\"]).size().reset_index(name=\"WOW\")\n",
    "\n",
    "# crime_df.to_csv(\"lmao.csv\", encoding=\"utf-8\")\n",
    "# processed_crime_df.head(5)\n",
    "len(processed_crime_df)"
   ]
  },
  {
   "cell_type": "markdown",
   "metadata": {},
   "source": [
    "# Begin processing Income Dataframe"
   ]
  },
  {
   "cell_type": "code",
   "execution_count": null,
   "metadata": {},
   "outputs": [],
   "source": [
    "income_df = pd.read_csv(\"./datasets/Vital_Signs_16_Census_Demographics.csv\")"
   ]
  },
  {
   "cell_type": "code",
   "execution_count": 13,
   "metadata": {
    "ExecuteTime": {
     "end_time": "2018-05-09T20:35:53.015957Z",
     "start_time": "2018-05-09T20:35:53.001211Z"
    }
   },
   "outputs": [],
   "source": [
    "income_neighborhood = []\n",
    "income_total_pop = []\n",
    "income_medium_hh = []\n",
    "\n",
    "for index, row in income_df.iterrows():\n",
    "    if \"/\" in row[\"CSA2010\"]:        \n",
    "        temp_districts = row[\"CSA2010\"].split(\"/\")\n",
    "        \n",
    "        for dist in temp_districts:\n",
    "            income_neighborhood.append(dist)\n",
    "            income_total_pop.append(row[\"tpop10\"])\n",
    "            income_medium_hh.append(row[\"mhhi16\"])\n",
    "    else:\n",
    "        income_neighborhood.append(row[\"CSA2010\"])\n",
    "        income_total_pop.append(row[\"tpop10\"])\n",
    "        income_medium_hh.append(row[\"mhhi16\"])\n",
    "    \n",
    "\n",
    "processed_income = {\n",
    "    'Neighborhood': income_neighborhood,\n",
    "    'Total Population': income_total_pop,\n",
    "    'Median Household Income': income_medium_hh\n",
    "}\n",
    "\n",
    "processed_income_df = pd.DataFrame(data=processed_income)"
   ]
  },
  {
   "cell_type": "code",
   "execution_count": 18,
   "metadata": {
    "ExecuteTime": {
     "end_time": "2018-05-09T20:44:34.200763Z",
     "start_time": "2018-05-09T20:44:34.182975Z"
    }
   },
   "outputs": [
    {
     "data": {
      "text/html": [
       "<div>\n",
       "<style scoped>\n",
       "    .dataframe tbody tr th:only-of-type {\n",
       "        vertical-align: middle;\n",
       "    }\n",
       "\n",
       "    .dataframe tbody tr th {\n",
       "        vertical-align: top;\n",
       "    }\n",
       "\n",
       "    .dataframe thead th {\n",
       "        text-align: right;\n",
       "    }\n",
       "</style>\n",
       "<table border=\"1\" class=\"dataframe\">\n",
       "  <thead>\n",
       "    <tr style=\"text-align: right;\">\n",
       "      <th></th>\n",
       "      <th>Median Household Income</th>\n",
       "      <th>Neighborhood</th>\n",
       "      <th>Total Population</th>\n",
       "    </tr>\n",
       "  </thead>\n",
       "  <tbody>\n",
       "    <tr>\n",
       "      <th>0</th>\n",
       "      <td>37302.17105</td>\n",
       "      <td>Allendale</td>\n",
       "      <td>16217</td>\n",
       "    </tr>\n",
       "    <tr>\n",
       "      <th>1</th>\n",
       "      <td>37302.17105</td>\n",
       "      <td>Irvington</td>\n",
       "      <td>16217</td>\n",
       "    </tr>\n",
       "    <tr>\n",
       "      <th>2</th>\n",
       "      <td>37302.17105</td>\n",
       "      <td>S. Hilton</td>\n",
       "      <td>16217</td>\n",
       "    </tr>\n",
       "    <tr>\n",
       "      <th>3</th>\n",
       "      <td>53565.07970</td>\n",
       "      <td>Beechfield</td>\n",
       "      <td>12264</td>\n",
       "    </tr>\n",
       "    <tr>\n",
       "      <th>4</th>\n",
       "      <td>53565.07970</td>\n",
       "      <td>Ten Hills</td>\n",
       "      <td>12264</td>\n",
       "    </tr>\n",
       "    <tr>\n",
       "      <th>5</th>\n",
       "      <td>53565.07970</td>\n",
       "      <td>West Hills</td>\n",
       "      <td>12264</td>\n",
       "    </tr>\n",
       "    <tr>\n",
       "      <th>6</th>\n",
       "      <td>40482.35965</td>\n",
       "      <td>Belair-Edison</td>\n",
       "      <td>17416</td>\n",
       "    </tr>\n",
       "    <tr>\n",
       "      <th>7</th>\n",
       "      <td>38603.93023</td>\n",
       "      <td>Brooklyn</td>\n",
       "      <td>14243</td>\n",
       "    </tr>\n",
       "    <tr>\n",
       "      <th>8</th>\n",
       "      <td>38603.93023</td>\n",
       "      <td>Curtis Bay</td>\n",
       "      <td>14243</td>\n",
       "    </tr>\n",
       "    <tr>\n",
       "      <th>9</th>\n",
       "      <td>38603.93023</td>\n",
       "      <td>Hawkins Point</td>\n",
       "      <td>14243</td>\n",
       "    </tr>\n",
       "  </tbody>\n",
       "</table>\n",
       "</div>"
      ],
      "text/plain": [
       "   Median Household Income   Neighborhood  Total Population\n",
       "0              37302.17105      Allendale             16217\n",
       "1              37302.17105      Irvington             16217\n",
       "2              37302.17105      S. Hilton             16217\n",
       "3              53565.07970     Beechfield             12264\n",
       "4              53565.07970      Ten Hills             12264\n",
       "5              53565.07970     West Hills             12264\n",
       "6              40482.35965  Belair-Edison             17416\n",
       "7              38603.93023       Brooklyn             14243\n",
       "8              38603.93023     Curtis Bay             14243\n",
       "9              38603.93023  Hawkins Point             14243"
      ]
     },
     "execution_count": 18,
     "metadata": {},
     "output_type": "execute_result"
    }
   ],
   "source": [
    "processed_income_df.head(10)\n",
    "# processed_income_df.to_csv(\"parsed_neighborhood.csv\", encoding=\"utf-8\")"
   ]
  },
  {
   "cell_type": "markdown",
   "metadata": {},
   "source": [
    "# Begin processing service Dataframe"
   ]
  },
  {
   "cell_type": "code",
   "execution_count": 19,
   "metadata": {
    "ExecuteTime": {
     "end_time": "2018-05-09T20:46:07.749579Z",
     "start_time": "2018-05-09T20:45:54.073307Z"
    }
   },
   "outputs": [
    {
     "name": "stderr",
     "output_type": "stream",
     "text": [
      "/Users/jaime/Downloads/CMSC-491-DS-Group-Project/python_processing/.env/lib/python3.6/site-packages/IPython/core/interactiveshell.py:2785: DtypeWarning: Columns (6) have mixed types. Specify dtype option on import or set low_memory=False.\n",
      "  interactivity=interactivity, compiler=compiler, result=result)\n"
     ]
    }
   ],
   "source": [
    "service_df = pd.read_csv(\"./datasets/311_Customer_Service_Requests.csv\")"
   ]
  },
  {
   "cell_type": "code",
   "execution_count": 21,
   "metadata": {
    "ExecuteTime": {
     "end_time": "2018-05-09T21:02:19.868285Z",
     "start_time": "2018-05-09T20:58:59.274926Z"
    }
   },
   "outputs": [],
   "source": [
    "service_df.head(20)\n",
    "\n",
    "\n",
    "service_type = []\n",
    "service_agency = []\n",
    "service_neighborhood = []\n",
    "service_method_received = []\n",
    "service_creation_date = []\n",
    "\n",
    "for index, row in service_df.iterrows():\n",
    "    service_type.append(row[\"SRType\"])\n",
    "    service_agency.append(row[\"Agency\"])\n",
    "    service_neighborhood.append(row[\"Neighborhood\"])\n",
    "    service_method_received.append(row[\"MethodReceived\"])\n",
    "    service_creation_date.append(row[\"CreatedDate\"])    \n",
    "\n",
    "processed_service = {\n",
    "    'Service Requested Type': service_type,\n",
    "    'Agency': service_agency,\n",
    "    'Neighborhood': service_neighborhood,\n",
    "    'Method Received': service_method_received,\n",
    "    'Creation Date': service_creation_date\n",
    "}\n",
    "\n",
    "processed_service_df = pd.DataFrame(data=processed_service)"
   ]
  },
  {
   "cell_type": "code",
   "execution_count": 22,
   "metadata": {
    "ExecuteTime": {
     "end_time": "2018-05-09T21:02:38.110862Z",
     "start_time": "2018-05-09T21:02:38.094634Z"
    }
   },
   "outputs": [
    {
     "data": {
      "text/html": [
       "<div>\n",
       "<style scoped>\n",
       "    .dataframe tbody tr th:only-of-type {\n",
       "        vertical-align: middle;\n",
       "    }\n",
       "\n",
       "    .dataframe tbody tr th {\n",
       "        vertical-align: top;\n",
       "    }\n",
       "\n",
       "    .dataframe thead th {\n",
       "        text-align: right;\n",
       "    }\n",
       "</style>\n",
       "<table border=\"1\" class=\"dataframe\">\n",
       "  <thead>\n",
       "    <tr style=\"text-align: right;\">\n",
       "      <th></th>\n",
       "      <th>Agency</th>\n",
       "      <th>Creation Date</th>\n",
       "      <th>Method Received</th>\n",
       "      <th>Neighborhood</th>\n",
       "      <th>Service Requested Type</th>\n",
       "    </tr>\n",
       "  </thead>\n",
       "  <tbody>\n",
       "    <tr>\n",
       "      <th>0</th>\n",
       "      <td>Bureau of Water and Waste Water</td>\n",
       "      <td>02/01/2015 08:12:00 AM +0000</td>\n",
       "      <td>Interface</td>\n",
       "      <td>CANTON</td>\n",
       "      <td>WW Water Leak (Exterior)</td>\n",
       "    </tr>\n",
       "    <tr>\n",
       "      <th>1</th>\n",
       "      <td>Liquor License Board</td>\n",
       "      <td>02/01/2015 08:48:00 AM +0000</td>\n",
       "      <td>Interface</td>\n",
       "      <td>GREEKTOWN</td>\n",
       "      <td>BCLB-Liquor License Complaint</td>\n",
       "    </tr>\n",
       "    <tr>\n",
       "      <th>2</th>\n",
       "      <td>Bureau of Water and Waste Water</td>\n",
       "      <td>02/01/2015 09:13:00 AM +0000</td>\n",
       "      <td>Phone</td>\n",
       "      <td>MILLHILL</td>\n",
       "      <td>WW Hydrant Open</td>\n",
       "    </tr>\n",
       "    <tr>\n",
       "      <th>3</th>\n",
       "      <td>Department of Transportation</td>\n",
       "      <td>02/01/2015 09:24:00 AM +0000</td>\n",
       "      <td>Phone</td>\n",
       "      <td>MEDFIELD</td>\n",
       "      <td>TRM-Snow/Icy Conditions</td>\n",
       "    </tr>\n",
       "    <tr>\n",
       "      <th>4</th>\n",
       "      <td>Department of Transportation</td>\n",
       "      <td>02/01/2015 09:29:00 AM +0000</td>\n",
       "      <td>Phone</td>\n",
       "      <td>EAST BALTIMORE MIDWAY</td>\n",
       "      <td>TRM-Snow/Icy Conditions</td>\n",
       "    </tr>\n",
       "  </tbody>\n",
       "</table>\n",
       "</div>"
      ],
      "text/plain": [
       "                            Agency                 Creation Date  \\\n",
       "0  Bureau of Water and Waste Water  02/01/2015 08:12:00 AM +0000   \n",
       "1             Liquor License Board  02/01/2015 08:48:00 AM +0000   \n",
       "2  Bureau of Water and Waste Water  02/01/2015 09:13:00 AM +0000   \n",
       "3     Department of Transportation  02/01/2015 09:24:00 AM +0000   \n",
       "4     Department of Transportation  02/01/2015 09:29:00 AM +0000   \n",
       "\n",
       "  Method Received           Neighborhood         Service Requested Type  \n",
       "0       Interface                 CANTON       WW Water Leak (Exterior)  \n",
       "1       Interface              GREEKTOWN  BCLB-Liquor License Complaint  \n",
       "2           Phone               MILLHILL                WW Hydrant Open  \n",
       "3           Phone               MEDFIELD        TRM-Snow/Icy Conditions  \n",
       "4           Phone  EAST BALTIMORE MIDWAY        TRM-Snow/Icy Conditions  "
      ]
     },
     "execution_count": 22,
     "metadata": {},
     "output_type": "execute_result"
    }
   ],
   "source": [
    "processed_service_df.head(5)"
   ]
  },
  {
   "cell_type": "code",
   "execution_count": null,
   "metadata": {},
   "outputs": [],
   "source": []
  }
 ],
 "metadata": {
  "kernelspec": {
   "display_name": "Python 3",
   "language": "python",
   "name": "python3"
  },
  "language_info": {
   "codemirror_mode": {
    "name": "ipython",
    "version": 3
   },
   "file_extension": ".py",
   "mimetype": "text/x-python",
   "name": "python",
   "nbconvert_exporter": "python",
   "pygments_lexer": "ipython3",
   "version": "3.6.5"
  }
 },
 "nbformat": 4,
 "nbformat_minor": 2
}
